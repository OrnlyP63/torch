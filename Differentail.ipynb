{
 "cells": [
  {
   "cell_type": "code",
   "execution_count": 1,
   "id": "7a5ad802-7de0-468f-84a8-dcf4992621dc",
   "metadata": {},
   "outputs": [],
   "source": [
    "import torch"
   ]
  },
  {
   "cell_type": "markdown",
   "id": "32051e3f-e9c1-4620-952f-e75d2b248f6e",
   "metadata": {},
   "source": [
    "![title](grad.png)"
   ]
  },
  {
   "cell_type": "markdown",
   "id": "23849c3e-9c78-4633-8efa-076bec1d0781",
   "metadata": {},
   "source": [
    "$$y(x) = x^2$$\n",
    "\n",
    "$$y(x = 2) = 2^2$$\n",
    "\n",
    "$$\\frac{dy(x = 2)}{dx} = 2x$$\n",
    "\n",
    "$$\\frac{dy(2)}{dx} = 2\\cdot 2$$"
   ]
  },
  {
   "cell_type": "code",
   "execution_count": 3,
   "id": "d3d0aa7b-b2c8-4cdd-bace-ee026dea83e0",
   "metadata": {},
   "outputs": [
    {
     "data": {
      "text/plain": [
       "tensor(4.)"
      ]
     },
     "execution_count": 3,
     "metadata": {},
     "output_type": "execute_result"
    }
   ],
   "source": [
    "x = torch.tensor(2.0, requires_grad = True)\n",
    "y = x**2\n",
    "y.backward()\n",
    "x.grad"
   ]
  },
  {
   "cell_type": "markdown",
   "id": "33a29f62-b604-4ed8-a95a-43fc1c2cf713",
   "metadata": {},
   "source": [
    "$$z(x) = x^2 + 2x + 1$$\n",
    "\n",
    "$$\\frac{dz(x=2)}{dx} = 2x + 2$$\n",
    "\n",
    "$$\\frac{dz(2)}{dx} = 2\\cdot 2 + 2$$"
   ]
  },
  {
   "cell_type": "code",
   "execution_count": 4,
   "id": "4739b64b-5ece-40a3-9ade-a63f12d1999a",
   "metadata": {},
   "outputs": [
    {
     "data": {
      "text/plain": [
       "tensor(6.)"
      ]
     },
     "execution_count": 4,
     "metadata": {},
     "output_type": "execute_result"
    }
   ],
   "source": [
    "x = torch.tensor(2.0, requires_grad = True)\n",
    "z = x**2 + 2*x + 1\n",
    "z.backward()\n",
    "x.grad"
   ]
  },
  {
   "cell_type": "markdown",
   "id": "2d3d4ae9-b88e-4d8c-b63e-041bddc79a4a",
   "metadata": {},
   "source": [
    "$f(u,v) = uv + u^2$\n",
    "\n",
    "$$\\frac{\\partial f(u, v)}{\\partial u} = v + 2u$$\n",
    "\n",
    "$$\\frac{\\partial f(u, v)}{\\partial v} = u$$\n",
    "\n",
    "$f(u = 1, v = 2) = uv + u^2$"
   ]
  },
  {
   "cell_type": "code",
   "execution_count": 6,
   "id": "333d348f-50dc-48c3-bd7a-17c7ffe75ba8",
   "metadata": {},
   "outputs": [],
   "source": [
    "u = torch.tensor(1.0, requires_grad=True)\n",
    "v = torch.tensor(2.0, requires_grad=True)\n",
    "\n",
    "f = u*v + u**2"
   ]
  },
  {
   "cell_type": "markdown",
   "id": "92a544be-9dab-47bd-b9f5-05058bde3b79",
   "metadata": {},
   "source": [
    "$1(2) + 1^2 = 3$"
   ]
  },
  {
   "cell_type": "code",
   "execution_count": 7,
   "id": "73ffd1cb-657a-40af-83f0-a4e16fcc4e98",
   "metadata": {},
   "outputs": [
    {
     "data": {
      "text/plain": [
       "tensor(3., grad_fn=<AddBackward0>)"
      ]
     },
     "execution_count": 7,
     "metadata": {},
     "output_type": "execute_result"
    }
   ],
   "source": [
    "f"
   ]
  },
  {
   "cell_type": "code",
   "execution_count": 8,
   "id": "5bfeb5d9-be1f-412b-a877-b39ac0ed0543",
   "metadata": {},
   "outputs": [],
   "source": [
    "f.backward()"
   ]
  },
  {
   "cell_type": "markdown",
   "id": "34c32879-8e65-403b-b2cd-091e225a9b0b",
   "metadata": {},
   "source": [
    "$$\\frac{\\partial f(u = 1, v = 2)}{\\partial u} = 2 + 2(1) = 4$$"
   ]
  },
  {
   "cell_type": "code",
   "execution_count": 9,
   "id": "fa9b5c2a-6a34-435f-869a-d58aea9c3962",
   "metadata": {},
   "outputs": [
    {
     "data": {
      "text/plain": [
       "tensor(4.)"
      ]
     },
     "execution_count": 9,
     "metadata": {},
     "output_type": "execute_result"
    }
   ],
   "source": [
    "u.grad"
   ]
  },
  {
   "cell_type": "markdown",
   "id": "c5ec3e02-486c-4468-8631-1774fb23fd2e",
   "metadata": {},
   "source": [
    "$$\\frac{\\partial f(u = 1, v = 2)}{\\partial v} = 1$$"
   ]
  },
  {
   "cell_type": "code",
   "execution_count": 10,
   "id": "a9a80452-a8df-453b-b4f7-b5ca1b176ced",
   "metadata": {},
   "outputs": [
    {
     "data": {
      "text/plain": [
       "tensor(1.)"
      ]
     },
     "execution_count": 10,
     "metadata": {},
     "output_type": "execute_result"
    }
   ],
   "source": [
    "v.grad"
   ]
  },
  {
   "cell_type": "code",
   "execution_count": null,
   "id": "8d0ed354-20bc-4440-960e-86ed337ea49e",
   "metadata": {},
   "outputs": [],
   "source": []
  }
 ],
 "metadata": {
  "kernelspec": {
   "display_name": "AIML",
   "language": "python",
   "name": "aiml"
  },
  "language_info": {
   "codemirror_mode": {
    "name": "ipython",
    "version": 3
   },
   "file_extension": ".py",
   "mimetype": "text/x-python",
   "name": "python",
   "nbconvert_exporter": "python",
   "pygments_lexer": "ipython3",
   "version": "3.8.12"
  }
 },
 "nbformat": 4,
 "nbformat_minor": 5
}
