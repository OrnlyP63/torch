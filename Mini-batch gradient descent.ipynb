{
 "cells": [
  {
   "cell_type": "markdown",
   "id": "d11e06f4-614a-4436-a9e1-de9f2f941ea1",
   "metadata": {},
   "source": [
    "# Mini-batch Gradient Descent\n",
    "\n",
    "Let batch size be $N$, and training size is $K$\n",
    "\n",
    "$$l_i(w, b) = \\frac{1}{N}\\sum_{n= Ni + 1}^{N(i+1)} (\\hat{y}_{n} - (wx_{n} + b))^2$$\n",
    "where $i = 1, 2, 3, \\ldots, I$\n",
    "\n",
    "Iteration :$I = \\frac{\\text{training size}}{\\text{batch size}} = \\frac{K}{N}$"
   ]
  },
  {
   "cell_type": "markdown",
   "id": "13ce4274-ae15-48ab-bd7c-00e01dc13850",
   "metadata": {},
   "source": [
    "Mini-batch Gradient Descent use multiple samples at a time perform one iteration of Gradient Descent."
   ]
  },
  {
   "cell_type": "code",
   "execution_count": 1,
   "id": "855ee8af-b8ff-478a-a94f-b2494f52e7f8",
   "metadata": {},
   "outputs": [
    {
     "name": "stdout",
     "output_type": "stream",
     "text": [
      "init:  1\n",
      "final:  10\n",
      "init:  11\n",
      "final:  20\n",
      "init:  21\n",
      "final:  30\n",
      "init:  31\n",
      "final:  40\n"
     ]
    }
   ],
   "source": [
    "N = 10\n",
    "K = 40\n",
    "I = K // N\n",
    "for i in range(I):\n",
    "    print('init: ', N*i + 1)\n",
    "    print('final: ', N*(i + 1))"
   ]
  },
  {
   "cell_type": "markdown",
   "id": "f018afaf-0bf1-419c-a050-7b8730657e77",
   "metadata": {},
   "source": [
    "# Example"
   ]
  },
  {
   "cell_type": "code",
   "execution_count": 2,
   "id": "49022e62-ce56-4f3b-9ccb-5ae41d01c6e8",
   "metadata": {},
   "outputs": [],
   "source": [
    "import torch\n",
    "from torch.utils.data import Dataset, DataLoader\n",
    "import matplotlib.pyplot as plt"
   ]
  },
  {
   "cell_type": "code",
   "execution_count": 3,
   "id": "a8ef0d61-01db-4a98-8b74-bc1ea0d72474",
   "metadata": {},
   "outputs": [],
   "source": [
    "def forward(X):\n",
    "    return w * X + b\n",
    "\n",
    "def criterion(yhat, y):\n",
    "    return torch.mean((yhat - y) ** 2)"
   ]
  },
  {
   "cell_type": "code",
   "execution_count": 4,
   "id": "80f54b50-9cff-477a-9ec5-10eb1cbbe78c",
   "metadata": {},
   "outputs": [],
   "source": [
    "class Data(Dataset):\n",
    "    def __init__(self):\n",
    "        self.x = torch.arange(-3, 3, 0.1).view(-1, 1)\n",
    "        f = -3 * self.x + 1\n",
    "        self.y = f + 0.1 * torch.randn(self.x.size())\n",
    "        \n",
    "        self.len = self.x.shape[0]\n",
    "        \n",
    "    def __getitem__(self, index):\n",
    "        return self.x[index], self.y[index]\n",
    "    \n",
    "    def __len__(self):\n",
    "        return self.len"
   ]
  },
  {
   "cell_type": "code",
   "execution_count": 5,
   "id": "8479802b-e8b4-45b4-a501-5a21f9671707",
   "metadata": {},
   "outputs": [],
   "source": [
    "dataset = Data()"
   ]
  },
  {
   "cell_type": "code",
   "execution_count": 6,
   "id": "ddd66023-8587-404b-9cde-921782524b18",
   "metadata": {},
   "outputs": [
    {
     "data": {
      "text/plain": [
       "60"
      ]
     },
     "execution_count": 6,
     "metadata": {},
     "output_type": "execute_result"
    }
   ],
   "source": [
    "len(dataset)"
   ]
  },
  {
   "cell_type": "code",
   "execution_count": 7,
   "id": "877d5c31-d3c8-4a72-9fe9-dd1ff3b91022",
   "metadata": {},
   "outputs": [],
   "source": [
    "x, y = dataset[0]"
   ]
  },
  {
   "cell_type": "code",
   "execution_count": 8,
   "id": "3e2770f9-5685-435d-9155-838756c7dbcb",
   "metadata": {},
   "outputs": [
    {
     "data": {
      "text/plain": [
       "tensor([-3.])"
      ]
     },
     "execution_count": 8,
     "metadata": {},
     "output_type": "execute_result"
    }
   ],
   "source": [
    "x"
   ]
  },
  {
   "cell_type": "code",
   "execution_count": 9,
   "id": "f3e1f7b5-3a73-4881-a6e7-e689e5c55ea0",
   "metadata": {},
   "outputs": [
    {
     "data": {
      "text/plain": [
       "tensor([9.7482])"
      ]
     },
     "execution_count": 9,
     "metadata": {},
     "output_type": "execute_result"
    }
   ],
   "source": [
    "y"
   ]
  },
  {
   "cell_type": "code",
   "execution_count": 10,
   "id": "030e221b-d7d0-4da5-b7d0-4c7eb77cd21c",
   "metadata": {},
   "outputs": [
    {
     "name": "stdout",
     "output_type": "stream",
     "text": [
      "Iteration is  6\n"
     ]
    }
   ],
   "source": [
    "K = len(dataset)\n",
    "N = 10\n",
    "I = K // N\n",
    "print('Iteration is ', I)"
   ]
  },
  {
   "cell_type": "code",
   "execution_count": 11,
   "id": "1bf82bd0-fd8c-4e5a-8bc2-c31ecff599eb",
   "metadata": {},
   "outputs": [],
   "source": [
    "trainloader = DataLoader(dataset = dataset, batch_size = N)"
   ]
  },
  {
   "cell_type": "markdown",
   "id": "006e0af0-6357-4522-9b66-7696efe86229",
   "metadata": {},
   "source": [
    "### Train with dataloader"
   ]
  },
  {
   "cell_type": "code",
   "execution_count": 12,
   "id": "ea05d8d1-0504-4e18-b41f-115b9c1d8f70",
   "metadata": {},
   "outputs": [],
   "source": [
    "w = torch.tensor(0.0, requires_grad = True)\n",
    "b = torch.tensor(0.0, requires_grad = True)"
   ]
  },
  {
   "cell_type": "code",
   "execution_count": 13,
   "id": "4eba990b-3306-4252-a0c4-2ab64309f101",
   "metadata": {},
   "outputs": [],
   "source": [
    "lr = 0.1\n",
    "COST = []\n",
    "for epoch in range(4):\n",
    "    total = 0\n",
    "    for x, y in trainloader:\n",
    "        yhat = forward(x)\n",
    "        loss = criterion(yhat, y)\n",
    "        loss.backward()\n",
    "\n",
    "        w.data = w.data - lr * w.grad.data\n",
    "        w.grad.data.zero_()\n",
    "\n",
    "        b.data = b.data - lr * b.grad.data\n",
    "        b.grad.data.zero_()\n",
    "        total += loss.item()\n",
    "        \n",
    "    COST.append(total)"
   ]
  },
  {
   "cell_type": "code",
   "execution_count": 14,
   "id": "52ebe98a-98cf-4322-a427-c5bbb900098b",
   "metadata": {},
   "outputs": [
    {
     "data": {
      "image/png": "[encoded data removed]",
      "text/plain": [
       "<Figure size 432x288 with 1 Axes>"
      ]
     },
     "metadata": {
      "needs_background": "light"
     },
     "output_type": "display_data"
    }
   ],
   "source": [
    "plt.plot(range(len(COST)), COST)\n",
    "plt.title('Cost')\n",
    "plt.show()"
   ]
  },
  {
   "cell_type": "code",
   "execution_count": 15,
   "id": "da0317fc-bfed-4426-a8b3-3e37383323fd",
   "metadata": {},
   "outputs": [
    {
     "data": {
      "text/plain": [
       "tensor(-3.0244, requires_grad=True)"
      ]
     },
     "execution_count": 15,
     "metadata": {},
     "output_type": "execute_result"
    }
   ],
   "source": [
    "w"
   ]
  },
  {
   "cell_type": "code",
   "execution_count": 16,
   "id": "fa456c3e-0e14-4bc1-ac58-204a5a3fa5c9",
   "metadata": {},
   "outputs": [
    {
     "data": {
      "text/plain": [
       "tensor(0.9770, requires_grad=True)"
      ]
     },
     "execution_count": 16,
     "metadata": {},
     "output_type": "execute_result"
    }
   ],
   "source": [
    "b"
   ]
  },
  {
   "cell_type": "markdown",
   "id": "f6c133d2-99eb-4281-8223-ef77eb06b079",
   "metadata": {},
   "source": [
    "**Batch size affect convergence rate.**"
   ]
  }
 ],
 "metadata": {
  "kernelspec": {
   "display_name": "AIML",
   "language": "python",
   "name": "aiml"
  },
  "language_info": {
   "codemirror_mode": {
    "name": "ipython",
    "version": 3
   },
   "file_extension": ".py",
   "mimetype": "text/x-python",
   "name": "python",
   "nbconvert_exporter": "python",
   "pygments_lexer": "ipython3",
   "version": "3.8.12"
  }
 },
 "nbformat": 4,
 "nbformat_minor": 5
}
