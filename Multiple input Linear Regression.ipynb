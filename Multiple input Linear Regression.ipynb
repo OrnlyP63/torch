{
 "cells": [
  {
   "cell_type": "markdown",
   "id": "78887671-daca-4a0b-95da-4abfd94692c5",
   "metadata": {},
   "source": [
    "# Multiple Linear Regression (MLR)\n",
    "\n",
    "- Decission function: $\\hat{y} = b_0 + w_1x_1 + \\ldots + w_Dx_D$\n",
    "\n",
    "Let input data $\\vec{x}$ be a tensor $D\\times 1$ and $\\vec{w}$ is a weight vector that is $D\\times 1$ and $\\hat{y}$ is the dependent variable.\n",
    "\n",
    "$$\\vec{x} = \\begin{bmatrix}\n",
    "x_1\\\\\n",
    "\\vdots\\\\\n",
    "x_D\n",
    "\\end{bmatrix}$$\n",
    "\n",
    "$$\\vec{w} = \\begin{bmatrix}\n",
    "w_1\\\\\n",
    "\\vdots\\\\\n",
    "w_D\n",
    "\\end{bmatrix}$$\n",
    "\n",
    "$$\\hat{y} = \\vec{x}^T\\vec{w} + b$$\n",
    "\n",
    "- Input data matrices: $X$\n",
    "\n",
    "$$X = \\begin{bmatrix}\n",
    "x_{11} & x_{12} & \\cdots &x_{1D}\\\\\n",
    "x_{21} & x_{22} & \\cdots &x_{2D}\\\\\n",
    "\\vdots & \\vdots & \\ddots &\\vdots\\\\\n",
    "x_{K1} & x_{K2} & \\cdots &x_{KD}\n",
    "\\end{bmatrix}$$\n",
    "\n",
    "- bias vector: $\\vec{b}$\n",
    "$$\\vec{b} = \\begin{bmatrix}\n",
    "b\\\\\n",
    "\\vdots\\\\\n",
    "b\n",
    "\\end{bmatrix}_{D\\times 1}$$\n",
    "where $K$ is a number of sample and $D$ is a number of feature of input data.\n",
    "\n",
    "$$\\hat{Y} = X\\vec{w} + \\vec{b}$$"
   ]
  },
  {
   "cell_type": "code",
   "execution_count": 1,
   "id": "27d1069d-4c71-4dcd-bae6-d9e16ef91ebb",
   "metadata": {},
   "outputs": [],
   "source": [
    "import torch\n",
    "from torch.nn import Linear\n",
    "torch.manual_seed(1)\n",
    "import torch.nn as nn"
   ]
  },
  {
   "cell_type": "markdown",
   "id": "9e30ecf4-526f-4a4b-a3e5-bc884b969f80",
   "metadata": {},
   "source": [
    "## Model"
   ]
  },
  {
   "cell_type": "code",
   "execution_count": 2,
   "id": "eb272508-90a8-461d-b807-8bf44d552f08",
   "metadata": {},
   "outputs": [],
   "source": [
    "model = Linear(in_features = 2, out_features = 1) #D = 2"
   ]
  },
  {
   "cell_type": "code",
   "execution_count": 3,
   "id": "bbb1abd1-472e-40be-b3b3-d64bf23af8fb",
   "metadata": {},
   "outputs": [
    {
     "data": {
      "text/plain": [
       "[Parameter containing:\n",
       " tensor([[ 0.3643, -0.3121]], requires_grad=True),\n",
       " Parameter containing:\n",
       " tensor([-0.1371], requires_grad=True)]"
      ]
     },
     "execution_count": 3,
     "metadata": {},
     "output_type": "execute_result"
    }
   ],
   "source": [
    "list(model.parameters())"
   ]
  },
  {
   "cell_type": "markdown",
   "id": "5fb2d582-707d-4270-820f-e9e4a2d6966d",
   "metadata": {},
   "source": [
    "### Input vector $\\vec{x}$"
   ]
  },
  {
   "cell_type": "code",
   "execution_count": 4,
   "id": "66b1fc3b-b8ae-4c49-aea8-0e3fcb78f926",
   "metadata": {},
   "outputs": [],
   "source": [
    "x = torch.tensor([[1.0, 3.0]]) #K = 1\n",
    "yhat = model(x)"
   ]
  },
  {
   "cell_type": "code",
   "execution_count": 5,
   "id": "d3ec35fa-7fe8-4f78-826f-2c9a30500eac",
   "metadata": {},
   "outputs": [
    {
     "data": {
      "text/plain": [
       "tensor([[1., 3.]])"
      ]
     },
     "execution_count": 5,
     "metadata": {},
     "output_type": "execute_result"
    }
   ],
   "source": [
    "x"
   ]
  },
  {
   "cell_type": "code",
   "execution_count": 6,
   "id": "6d7811a3-0667-4bfa-b143-901ba7f2e3a3",
   "metadata": {},
   "outputs": [
    {
     "data": {
      "text/plain": [
       "tensor([[-0.7090]], grad_fn=<AddmmBackward0>)"
      ]
     },
     "execution_count": 6,
     "metadata": {},
     "output_type": "execute_result"
    }
   ],
   "source": [
    "yhat"
   ]
  },
  {
   "cell_type": "markdown",
   "id": "f0e651ee-05ec-497c-8d3c-142c8b40d3f1",
   "metadata": {},
   "source": [
    "### Input matrices $X$"
   ]
  },
  {
   "cell_type": "code",
   "execution_count": 7,
   "id": "8065eb4e-3306-4f1e-bf88-7f0b69ffd1cd",
   "metadata": {},
   "outputs": [],
   "source": [
    "X = torch.tensor([[1.0, 1.0], [1.0, 2.0], [1.0, 3.0]]) #K = 3\n",
    "Yhat = model(X)"
   ]
  },
  {
   "cell_type": "code",
   "execution_count": 8,
   "id": "73ddb44f-9efa-4364-9017-e49a8c2f6642",
   "metadata": {},
   "outputs": [
    {
     "data": {
      "text/plain": [
       "tensor([[1., 1.],\n",
       "        [1., 2.],\n",
       "        [1., 3.]])"
      ]
     },
     "execution_count": 8,
     "metadata": {},
     "output_type": "execute_result"
    }
   ],
   "source": [
    "X"
   ]
  },
  {
   "cell_type": "code",
   "execution_count": 9,
   "id": "5a39ea40-dde6-42d4-b500-f4f3ba73fc60",
   "metadata": {},
   "outputs": [
    {
     "data": {
      "text/plain": [
       "tensor([[-0.0848],\n",
       "        [-0.3969],\n",
       "        [-0.7090]], grad_fn=<AddmmBackward0>)"
      ]
     },
     "execution_count": 9,
     "metadata": {},
     "output_type": "execute_result"
    }
   ],
   "source": [
    "Yhat"
   ]
  },
  {
   "cell_type": "markdown",
   "id": "19364ed9-01bc-44b6-aa6b-a2d9c1a57be8",
   "metadata": {},
   "source": [
    "### Cost function"
   ]
  },
  {
   "cell_type": "markdown",
   "id": "5fed8f31-eac4-41b7-abcb-25aeeace629c",
   "metadata": {},
   "source": [
    "Let $$\\vec{w} = \\begin{bmatrix}\n",
    "w_1\\\\\n",
    "\\vdots\\\\\n",
    "w_D\\\\\n",
    "b\n",
    "\\end{bmatrix}$$\n",
    "and\n",
    "$$\\vec{x} = \\begin{bmatrix}\n",
    "x_1\\\\\n",
    "\\vdots\\\\\n",
    "x_D\\\\\n",
    "1\n",
    "\\end{bmatrix}$$"
   ]
  },
  {
   "cell_type": "markdown",
   "id": "2dfd9edd-86a0-4e5a-80a1-72aa4125b8d2",
   "metadata": {},
   "source": [
    "- cost fucntion: $l(\\vec{w}, b) = \\frac{1}{N}\\sum_{n=1}^N (y_n - (\\vec{x}_n^T\\vec{w}))^2$\n",
    "\n",
    "- vector gradient: $\\nabla l(\\vec{w}, b) =\n",
    "\\begin{bmatrix}\n",
    "\\frac{\\partial l(\\vec{w}, b)}{\\partial w_1}\\\\\n",
    "\\vdots\\\\\n",
    "\\frac{\\partial l(\\vec{w}, b)}{\\partial w_D}\\\\\n",
    "\\frac{\\partial l(\\vec{w}, b)}{\\partial b}\n",
    "\\end{bmatrix}$"
   ]
  },
  {
   "cell_type": "markdown",
   "id": "46a7d085-f037-4c15-9177-ba2b5c867d38",
   "metadata": {},
   "source": [
    "### Training\n",
    "\n",
    "$$\\vec{w}^{k+1} = w^k - \\eta\\nabla l(\\vec{w}, b)$$\n",
    "\n",
    "where $\\eta$ is a learning rate."
   ]
  },
  {
   "cell_type": "code",
   "execution_count": 10,
   "id": "be32ef8c-173a-4ab1-95ae-7a681b75d88f",
   "metadata": {},
   "outputs": [],
   "source": [
    "from torch import nn, optim\n",
    "import torch\n",
    "from torch.utils.data import Dataset, DataLoader"
   ]
  },
  {
   "cell_type": "code",
   "execution_count": 11,
   "id": "ad2d1be5-1160-4b04-acbb-feafe4039af6",
   "metadata": {},
   "outputs": [],
   "source": [
    "#Model\n",
    "class LR(nn.Module):\n",
    "    def __init__(self, input_size, output_size):\n",
    "        super(LR, self).__init__()\n",
    "        self.linear = Linear(input_size, output_size)\n",
    "        \n",
    "    def forward(self, X):\n",
    "        out = self.linear(X)\n",
    "        return out"
   ]
  },
  {
   "cell_type": "code",
   "execution_count": 12,
   "id": "eb1f1fa1-61f3-466b-9621-b328ec39f9f0",
   "metadata": {},
   "outputs": [],
   "source": [
    "#Data\n",
    "class Data2D(Dataset):\n",
    "    def __init__(self):\n",
    "        self.x = torch.zeros(20, 2)\n",
    "        self.x[:, 0] = torch.arange(-1, 1, 0.1)\n",
    "        self.x[:, 1] = torch.arange(-1, 1, 0.1)\n",
    "        self.w = torch.tensor([[1.0], [1.0]])\n",
    "        self.b = 1\n",
    "        self.f = torch.mm(self.x, self.w) + self.b\n",
    "        self.y = self.f + 0.1 * torch.randn((self.x.shape[0], 1))\n",
    "        self.len = self.x.shape[0]\n",
    "        \n",
    "    def __getitem__(self, index):\n",
    "        return self.x[index], self.y[index]\n",
    "    \n",
    "    def __len__(self):\n",
    "        return self.len"
   ]
  },
  {
   "cell_type": "code",
   "execution_count": 13,
   "id": "2945ab69-3577-4223-95b6-a5110d538300",
   "metadata": {},
   "outputs": [],
   "source": [
    "data_set = Data2D()\n",
    "criterion = nn.MSELoss()\n",
    "trainloader = DataLoader(dataset = data_set, batch_size = 2)\n",
    "model = LR(input_size= 2, output_size = 1)\n",
    "optimizer = optim.SGD(model.parameters(), lr = 0.1)"
   ]
  },
  {
   "cell_type": "code",
   "execution_count": 14,
   "id": "171aa629-1db9-43d7-adde-fd45ff01e44a",
   "metadata": {},
   "outputs": [],
   "source": [
    "for epoch in range(100):\n",
    "    for x, y in trainloader:\n",
    "        \n",
    "        yhat = model(x)\n",
    "        loss = criterion(yhat, y)\n",
    "        optimizer.zero_grad()\n",
    "        loss.backward()\n",
    "        optimizer.step()"
   ]
  },
  {
   "cell_type": "code",
   "execution_count": 15,
   "id": "557d2f0e-1b81-4e90-99c8-cf534aec8fe5",
   "metadata": {},
   "outputs": [
    {
     "name": "stdout",
     "output_type": "stream",
     "text": [
      "None tensor([[0.4891, 1.5115]])\n",
      "None tensor([1.0040])\n"
     ]
    }
   ],
   "source": [
    "for p in model.parameters():\n",
    "    if p.requires_grad:\n",
    "         print(p.name, p.data)"
   ]
  },
  {
   "cell_type": "code",
   "execution_count": null,
   "id": "a154d3ac-ab8c-4804-ba3c-855a34a6cdfd",
   "metadata": {},
   "outputs": [],
   "source": []
  }
 ],
 "metadata": {
  "kernelspec": {
   "display_name": "AIML",
   "language": "python",
   "name": "aiml"
  },
  "language_info": {
   "codemirror_mode": {
    "name": "ipython",
    "version": 3
   },
   "file_extension": ".py",
   "mimetype": "text/x-python",
   "name": "python",
   "nbconvert_exporter": "python",
   "pygments_lexer": "ipython3",
   "version": "3.8.12"
  }
 },
 "nbformat": 4,
 "nbformat_minor": 5
}
