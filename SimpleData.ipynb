{
 "cells": [
  {
   "cell_type": "code",
   "execution_count": 1,
   "id": "44d430ea-d1bf-40fe-ac6b-dfd39264451f",
   "metadata": {},
   "outputs": [],
   "source": [
    "import torch\n",
    "from torch.utils.data import Dataset"
   ]
  },
  {
   "cell_type": "code",
   "execution_count": 2,
   "id": "c946eaf0-6ad3-4c09-8246-493d4c623533",
   "metadata": {},
   "outputs": [],
   "source": [
    "class toy_set(Dataset):\n",
    "    \n",
    "    def __init__(self, length=100, transform=None):\n",
    "        self.x = 2 * torch.ones(length, 2)\n",
    "        self.y = torch.ones(length, 1)\n",
    "        self.len = length\n",
    "        self.transform = transform\n",
    "        \n",
    "    def __getitem__(self, index):\n",
    "        sample = self.x[index], self.y[index]\n",
    "        if self.transform:\n",
    "            sample = self.transform(sample)\n",
    "        return sample\n",
    "    \n",
    "    def __len__(self):\n",
    "        return self.len"
   ]
  },
  {
   "cell_type": "code",
   "execution_count": 3,
   "id": "c6254779-c179-44e6-9e0a-68026cab2ac4",
   "metadata": {},
   "outputs": [],
   "source": [
    "dataset = toy_set()"
   ]
  },
  {
   "cell_type": "code",
   "execution_count": 4,
   "id": "ec522b6b-8728-490d-8d4e-fb2927c337a6",
   "metadata": {},
   "outputs": [
    {
     "data": {
      "text/plain": [
       "100"
      ]
     },
     "execution_count": 4,
     "metadata": {},
     "output_type": "execute_result"
    }
   ],
   "source": [
    "len(dataset)"
   ]
  },
  {
   "cell_type": "code",
   "execution_count": 5,
   "id": "7e88ddec-21af-438c-b4e4-e7c37967f2c7",
   "metadata": {},
   "outputs": [
    {
     "data": {
      "text/plain": [
       "(tensor([2., 2.]), tensor([1.]))"
      ]
     },
     "execution_count": 5,
     "metadata": {},
     "output_type": "execute_result"
    }
   ],
   "source": [
    "dataset[0]"
   ]
  },
  {
   "cell_type": "code",
   "execution_count": 6,
   "id": "3d6171d7-4956-4c46-9007-cf7287582049",
   "metadata": {},
   "outputs": [
    {
     "name": "stdout",
     "output_type": "stream",
     "text": [
      "0 x: tensor([2., 2.]), y: tensor([1.])\n",
      "1 x: tensor([2., 2.]), y: tensor([1.])\n",
      "2 x: tensor([2., 2.]), y: tensor([1.])\n",
      "3 x: tensor([2., 2.]), y: tensor([1.])\n",
      "4 x: tensor([2., 2.]), y: tensor([1.])\n",
      "5 x: tensor([2., 2.]), y: tensor([1.])\n",
      "6 x: tensor([2., 2.]), y: tensor([1.])\n",
      "7 x: tensor([2., 2.]), y: tensor([1.])\n",
      "8 x: tensor([2., 2.]), y: tensor([1.])\n",
      "9 x: tensor([2., 2.]), y: tensor([1.])\n"
     ]
    }
   ],
   "source": [
    "for i in range(10):\n",
    "    x, y = dataset[i]\n",
    "    print(i, f'x: {x}, y: {y}')"
   ]
  },
  {
   "cell_type": "code",
   "execution_count": 7,
   "id": "27032e75-8e9b-4053-a193-b5a6847a55e4",
   "metadata": {},
   "outputs": [],
   "source": [
    "class add_mult(object):\n",
    "    \n",
    "    def __init__(self, addx=1,  muly=1):\n",
    "        self.addx = addx\n",
    "        self.muly = muly\n",
    "        \n",
    "    def __call__(self, sample):\n",
    "        x = sample[0]\n",
    "        y = sample[1]\n",
    "        \n",
    "        x = x+self.addx\n",
    "        y = y*self.muly\n",
    "        sample = x, y\n",
    "        return sample\n",
    "    \n",
    "class mult(object):\n",
    "    \n",
    "    def __init__(self, mul=1):\n",
    "        self.mul = mul\n",
    "        \n",
    "    def __call__(self, sample):\n",
    "        x = sample[0]\n",
    "        y = sample[1]\n",
    "        \n",
    "        x = x*self.mul\n",
    "        y = y*self.mul\n",
    "        sample = x,y\n",
    "        return sample"
   ]
  },
  {
   "cell_type": "code",
   "execution_count": 8,
   "id": "6518f01e-3eba-498f-90f3-e6f90f1509ec",
   "metadata": {},
   "outputs": [],
   "source": [
    "am = add_mult(1, 2)\n",
    "dataset_ = toy_set(transform = am)"
   ]
  },
  {
   "cell_type": "code",
   "execution_count": 9,
   "id": "e86ba3e8-ad83-4a9a-abd4-beacfacd40a3",
   "metadata": {},
   "outputs": [
    {
     "name": "stdout",
     "output_type": "stream",
     "text": [
      "0 x: tensor([3., 3.]), y: tensor([2.])\n",
      "1 x: tensor([3., 3.]), y: tensor([2.])\n",
      "2 x: tensor([3., 3.]), y: tensor([2.])\n",
      "3 x: tensor([3., 3.]), y: tensor([2.])\n",
      "4 x: tensor([3., 3.]), y: tensor([2.])\n",
      "5 x: tensor([3., 3.]), y: tensor([2.])\n",
      "6 x: tensor([3., 3.]), y: tensor([2.])\n",
      "7 x: tensor([3., 3.]), y: tensor([2.])\n",
      "8 x: tensor([3., 3.]), y: tensor([2.])\n",
      "9 x: tensor([3., 3.]), y: tensor([2.])\n"
     ]
    }
   ],
   "source": [
    "for i in range(10):\n",
    "    x, y = dataset_[i]\n",
    "    print(i, f'x: {x}, y: {y}')"
   ]
  },
  {
   "cell_type": "code",
   "execution_count": 15,
   "id": "fe251934-d6bd-4e91-95d8-ec3849017451",
   "metadata": {},
   "outputs": [],
   "source": [
    "from torchvision import transforms"
   ]
  },
  {
   "cell_type": "code",
   "execution_count": 20,
   "id": "8bb63f15-579b-4a5b-a687-b120e26f94f8",
   "metadata": {},
   "outputs": [],
   "source": [
    "data_transform = transforms.Compose([add_mult(1, 2), mult(2)])"
   ]
  },
  {
   "cell_type": "code",
   "execution_count": 21,
   "id": "63530e6e-11a1-42dd-b249-7e91bf387ae7",
   "metadata": {},
   "outputs": [],
   "source": [
    "x_, y_ = data_transform(dataset[0])"
   ]
  },
  {
   "cell_type": "code",
   "execution_count": 22,
   "id": "0ca7cff2-6559-448f-a659-242f17cfe5f2",
   "metadata": {},
   "outputs": [
    {
     "data": {
      "text/plain": [
       "tensor([6., 6.])"
      ]
     },
     "execution_count": 22,
     "metadata": {},
     "output_type": "execute_result"
    }
   ],
   "source": [
    "x_"
   ]
  },
  {
   "cell_type": "code",
   "execution_count": 23,
   "id": "bb3f30dc-0f2f-4f14-b049-fa3383e8d4f3",
   "metadata": {},
   "outputs": [
    {
     "data": {
      "text/plain": [
       "tensor([4.])"
      ]
     },
     "execution_count": 23,
     "metadata": {},
     "output_type": "execute_result"
    }
   ],
   "source": [
    "y_"
   ]
  },
  {
   "cell_type": "code",
   "execution_count": null,
   "id": "459feb45-2b22-49fb-ac41-8097b3ee6112",
   "metadata": {},
   "outputs": [],
   "source": []
  }
 ],
 "metadata": {
  "kernelspec": {
   "display_name": "AIML",
   "language": "python",
   "name": "aiml"
  },
  "language_info": {
   "codemirror_mode": {
    "name": "ipython",
    "version": 3
   },
   "file_extension": ".py",
   "mimetype": "text/x-python",
   "name": "python",
   "nbconvert_exporter": "python",
   "pygments_lexer": "ipython3",
   "version": "3.8.12"
  }
 },
 "nbformat": 4,
 "nbformat_minor": 5
}
