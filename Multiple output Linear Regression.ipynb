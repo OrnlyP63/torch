{
 "cells": [
  {
   "cell_type": "markdown",
   "id": "b3664e55-cb11-47ae-b1b4-6bab229ebff3",
   "metadata": {},
   "source": [
    "# Linear Regression with Multiple Outputs"
   ]
  },
  {
   "cell_type": "markdown",
   "id": "c0800150-3f75-4002-a8f5-a0cd242c04d7",
   "metadata": {},
   "source": [
    "- decission functon: \n",
    "$$\\begin{align}\n",
    "\\hat{y}_1 &= b_{1} + w_{11}x_1 + \\ldots + w_{1D}x_D\\\\\n",
    "\\hat{y}_2 &= b_{2} + w_{21}x_1 + \\ldots + w_{2D}x_D\\\\\n",
    "&\\vdots\\\\\n",
    "\\hat{y}_N &= b_{N} + w_{N1}x_1 + \\ldots + w_{ND}x_D\n",
    "\\end{align}$$\n",
    "\n",
    "- input vector: $$\\vec{x} = \\begin{bmatrix}\n",
    "x_1\\\\\n",
    "\\vdots\\\\\n",
    "x_D\n",
    "\\end{bmatrix}$$\n",
    "\n",
    "- output vector: $$\\vec{y} = \\begin{bmatrix}\n",
    "\\hat{y}_1\\\\\n",
    "\\vdots\\\\\n",
    "\\hat{y}_N\n",
    "\\end{bmatrix}$$\n",
    "\n",
    "- bias vector:$$\\vec{b} = \\begin{bmatrix}\n",
    "b_1\\\\\n",
    "\\vdots\\\\\n",
    "b_N\n",
    "\\end{bmatrix}$$\n",
    "- weight matrix:\n",
    "$$W = \\begin{bmatrix}\n",
    "w_{11} & w_{12} & \\cdots & w_{1D}\\\\\n",
    "w_{21} & w_{22} & \\cdots & w_{2D}\\\\\n",
    "\\vdots & \\vdots & \\ddots & \\vdots\\\\\n",
    "w_{N1} & w_{N2} & \\cdots & w_{ND}\n",
    "\\end{bmatrix}_{N\\times D}$$\n",
    "\n",
    "where $N$ is a number of output class and \n",
    "\n",
    "$D$ is a number of input features.\n",
    "\n",
    "So our decssion function vector is\n",
    "\n",
    "$$\\vec{y} = W\\vec{x} + \\vec{b}$$"
   ]
  },
  {
   "cell_type": "code",
   "execution_count": 1,
   "id": "6101d7d0-2d27-445f-8663-aae404aefcc2",
   "metadata": {},
   "outputs": [],
   "source": [
    "import torch\n",
    "from torch.nn import Linear\n",
    "torch.manual_seed(1)\n",
    "import torch.nn as nn"
   ]
  },
  {
   "cell_type": "code",
   "execution_count": 2,
   "id": "4b3eac48-a4aa-4344-ba1e-09ba31cb3300",
   "metadata": {},
   "outputs": [],
   "source": [
    "#Model\n",
    "class LR(nn.Module):\n",
    "    def __init__(self, input_size, output_size):\n",
    "        super(LR, self).__init__()\n",
    "        self.linear = Linear(input_size, output_size)\n",
    "        \n",
    "    def forward(self, X):\n",
    "        out = self.linear(X)\n",
    "        return out"
   ]
  },
  {
   "cell_type": "code",
   "execution_count": 3,
   "id": "ead6ef90-04bb-4976-b5e2-1d58db3708fc",
   "metadata": {},
   "outputs": [],
   "source": [
    "model = LR(input_size = 2, output_size = 2)"
   ]
  },
  {
   "cell_type": "code",
   "execution_count": 4,
   "id": "0e7109cf-e231-45fc-8557-980caa3f874c",
   "metadata": {},
   "outputs": [
    {
     "data": {
      "text/plain": [
       "[Parameter containing:\n",
       " tensor([[ 0.3643, -0.3121],\n",
       "         [-0.1371,  0.3319]], requires_grad=True),\n",
       " Parameter containing:\n",
       " tensor([-0.6657,  0.4241], requires_grad=True)]"
      ]
     },
     "execution_count": 4,
     "metadata": {},
     "output_type": "execute_result"
    }
   ],
   "source": [
    "list(model.parameters())"
   ]
  },
  {
   "cell_type": "code",
   "execution_count": 5,
   "id": "9e1c582a-b471-4ec7-ab6e-0a7fc4dda807",
   "metadata": {},
   "outputs": [],
   "source": [
    "x = torch.tensor([[1.0, 2.0]])\n",
    "yhat = model(x)"
   ]
  },
  {
   "cell_type": "code",
   "execution_count": 6,
   "id": "c98e2fe5-6168-499f-aa9f-ca0d1c1f6c38",
   "metadata": {},
   "outputs": [
    {
     "data": {
      "text/plain": [
       "tensor([[-0.9256,  0.9508]], grad_fn=<AddmmBackward0>)"
      ]
     },
     "execution_count": 6,
     "metadata": {},
     "output_type": "execute_result"
    }
   ],
   "source": [
    "yhat"
   ]
  },
  {
   "cell_type": "markdown",
   "id": "3f71191e-d672-4f5a-8f4f-a8bb980ef8c9",
   "metadata": {},
   "source": [
    "- Input Matrix\n",
    "\n",
    "$$X = \\begin{bmatrix}\n",
    "x_{11} & w_{12} & \\cdots & w_{1D}\\\\\n",
    "x_{21} & w_{22} & \\cdots & w_{2D}\\\\\n",
    "\\vdots & \\vdots & \\ddots & \\vdots\\\\\n",
    "x_{D1} & w_{D2} & \\cdots & w_{DK}\n",
    "\\end{bmatrix}_{D\\times K}$$\n",
    "\n",
    "- Bias Matrix\n",
    "$$B = \\begin{bmatrix}\n",
    "b_{11} & b_{12} & \\cdots & b_{1D}\\\\\n",
    "b_{21} & b_{22} & \\cdots & b_{2D}\\\\\n",
    "\\vdots & \\vdots & \\ddots & \\vdots\\\\\n",
    "b_{N1} & b_{N2} & \\cdots & b_{NK}\n",
    "\\end{bmatrix}_{N \\times K}$$\n",
    "\n",
    "- Output Matrix\n",
    "\n",
    "$$\\hat{Y} = WX + B$$"
   ]
  },
  {
   "cell_type": "code",
   "execution_count": 7,
   "id": "fbd90f75-15f6-4f67-85a9-68adc66169c7",
   "metadata": {},
   "outputs": [],
   "source": [
    "X = torch.tensor([[1.0, 2.0], [1.0, 2.0], [1.0, 3.0]])\n",
    "Yhat = model(X)"
   ]
  },
  {
   "cell_type": "code",
   "execution_count": 8,
   "id": "7f8b1432-a07c-4f02-bcee-f1b40d220193",
   "metadata": {},
   "outputs": [
    {
     "data": {
      "text/plain": [
       "tensor([[-0.9256,  0.9508],\n",
       "        [-0.9256,  0.9508],\n",
       "        [-1.2377,  1.2827]], grad_fn=<AddmmBackward0>)"
      ]
     },
     "execution_count": 8,
     "metadata": {},
     "output_type": "execute_result"
    }
   ],
   "source": [
    "Yhat"
   ]
  },
  {
   "cell_type": "markdown",
   "id": "13787e08-5baf-466e-ba50-6719b2d2d0d4",
   "metadata": {},
   "source": [
    "## Training"
   ]
  },
  {
   "cell_type": "markdown",
   "id": "7c046925-bdf6-4543-985f-5ede2e7e2337",
   "metadata": {},
   "source": [
    "- Cost function:\n",
    "\n",
    "$$l(W, b) = \\frac{1}{K}\\sum_{k = 1}^K\\|y_k - (W\\vec{x} + \\vec{b})\\|^2$$\n",
    "\n",
    "- Update weight\n",
    "\n",
    "$$\\begin{align}\n",
    "W^{i + 1} &= W^i - \\eta\\nabla l(W^i, b^i)\\\\\n",
    "\\end{align}$$"
   ]
  },
  {
   "cell_type": "code",
   "execution_count": 9,
   "id": "af1adf07-583c-4979-b794-db27d3514294",
   "metadata": {},
   "outputs": [],
   "source": [
    "from torch import nn, optim\n",
    "import torch\n",
    "from torch.utils.data import Dataset, DataLoader"
   ]
  },
  {
   "cell_type": "code",
   "execution_count": 10,
   "id": "cf47b483-a018-49d0-b610-3f21e2ed5c93",
   "metadata": {},
   "outputs": [],
   "source": [
    "#Data\n",
    "class Data2D(Dataset):\n",
    "    def __init__(self):\n",
    "        self.x = torch.zeros(20, 2)\n",
    "        self.x[:, 0] = torch.arange(-1, 1, 0.1)\n",
    "        self.x[:, 1] = torch.arange(-1, 1, 0.1)\n",
    "        self.w = torch.tensor([[1.0, -1.0], [1.0, -1.0]])\n",
    "        self.b = torch.tensor([[1.0, -1.0]])\n",
    "        self.f = torch.mm(self.x, self.w) + self.b\n",
    "        self.y = self.f + 0.1 * torch.randn((self.x.shape[0], 1))\n",
    "        self.len = self.x.shape[0]\n",
    "        \n",
    "    def __getitem__(self, index):\n",
    "        return self.x[index], self.y[index]\n",
    "    \n",
    "    def __len__(self):\n",
    "        return self.len"
   ]
  },
  {
   "cell_type": "code",
   "execution_count": 11,
   "id": "ce3d6c7f-3043-4f94-b2ab-d05e62f25598",
   "metadata": {},
   "outputs": [],
   "source": [
    "data_set = Data2D()\n",
    "criterion = nn.MSELoss()\n",
    "trainloader = DataLoader(dataset = data_set, batch_size = 1)\n",
    "model = LR(input_size= 2, output_size = 2)\n",
    "optimizer = optim.SGD(model.parameters(), lr = 0.1)"
   ]
  },
  {
   "cell_type": "code",
   "execution_count": 12,
   "id": "1df3b755-08ec-4113-a17b-a14d701c8c8e",
   "metadata": {},
   "outputs": [],
   "source": [
    "for epoch in range(100):\n",
    "    for x, y in trainloader:\n",
    "        \n",
    "        yhat = model(x)\n",
    "        loss = criterion(yhat, y)\n",
    "        optimizer.zero_grad()\n",
    "        loss.backward()\n",
    "        optimizer.step()"
   ]
  },
  {
   "cell_type": "code",
   "execution_count": 13,
   "id": "6a17b3d1-999f-4feb-9a42-23da50a70848",
   "metadata": {},
   "outputs": [
    {
     "name": "stdout",
     "output_type": "stream",
     "text": [
      "None tensor([[ 1.2925,  0.7706],\n",
      "        [-1.3365, -0.6005]])\n",
      "None tensor([ 1.0090, -0.9910])\n"
     ]
    }
   ],
   "source": [
    "for p in model.parameters():\n",
    "    if p.requires_grad:\n",
    "         print(p.name, p.data)"
   ]
  },
  {
   "cell_type": "code",
   "execution_count": null,
   "id": "e6453771-ea91-4bb6-b71f-873c500ed42c",
   "metadata": {},
   "outputs": [],
   "source": []
  }
 ],
 "metadata": {
  "kernelspec": {
   "display_name": "AIML",
   "language": "python",
   "name": "aiml"
  },
  "language_info": {
   "codemirror_mode": {
    "name": "ipython",
    "version": 3
   },
   "file_extension": ".py",
   "mimetype": "text/x-python",
   "name": "python",
   "nbconvert_exporter": "python",
   "pygments_lexer": "ipython3",
   "version": "3.8.12"
  }
 },
 "nbformat": 4,
 "nbformat_minor": 5
}
