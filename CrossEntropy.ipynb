{
 "cells": [
  {
   "cell_type": "markdown",
   "id": "bd0abc9f-44c8-4a9a-b619-fa5194d57269",
   "metadata": {},
   "source": [
    "- Target probability: $\\theta \\in [0, 1]$\n",
    "\n",
    "- Probability: $P(X = 1) = \\theta,\\quad P(X = 0) = 1 - \\theta$\n",
    "\n",
    "- Likelihood: $$P(x_1, x_2,\\ldots, x_N) = \\prod_{n=1}^N P(x_n)$$\n",
    "\n",
    "where $x_i\\in \\{0, 1\\}$\n",
    "\n",
    "## Bernoulli distribution\n",
    "\n",
    "$$P(y|\\theta) = \\theta^y(1 - \\theta)^{1-y}$$\n",
    "\n",
    "So\n",
    "\n",
    "$\\begin{align}\n",
    "P(y = 0 |\\theta) &= \\theta^0(1 - \\theta)^{1-0}\\\\\n",
    "&= (1 - \\theta)\n",
    "\\end{align}$\n",
    "\n",
    "and\n",
    "\n",
    "$\\begin{align}\n",
    "P(y = 1 |\\theta) &= \\theta^1(1 - \\theta)^{1-1}\\\\\n",
    "&= \\theta\n",
    "\\end{align}$\n",
    "\n",
    "- Function $\\theta$\n",
    "\n",
    "Consider\n",
    "\n",
    "$$P(Y|\\theta) = \\prod_{n=1}^N P(y_n|\\theta) = \\prod_{n=1}^N \\theta^y(1 - \\theta)^{1-y}$$\n",
    "\n",
    "and\n",
    "\n",
    "$$\\hat{\\theta} = \\underset{\\theta}{\\operatorname{argmax}} P(Y|\\theta)$$\n",
    "\n",
    "## How to Determine $\\theta$\n",
    "\n",
    "- The log likelihood function is given by\n",
    "\n",
    "$$l(\\theta) = ln(P(Y|\\theta)) = \\sum_{n = 1}^N y_n ln(\\theta) + (1 + y_n)ln(1-\\theta)$$"
   ]
  },
  {
   "cell_type": "markdown",
   "id": "90df2458-5fc3-4c99-9bd3-740a7ab16248",
   "metadata": {},
   "source": [
    "## Cross Entropy Loss\n",
    "\n",
    "What's the problem with using the cost function generated using the threshold function: It is flat in some  regions\n",
    "\n",
    "- maximum likelihood:\n",
    "\n",
    "$$P(Y|w, b) = \\prod_{n=1}^N P(y_n|wx_n + b)$$\n",
    "\n",
    "$$(w^*, b^*) = \\underset{w, b}{\\operatorname{argmax}} P(Y|w, b)$$\n",
    "\n",
    "- cross entropy loss:\n",
    "$$\\mathscr{l}(\\theta) = -\\frac{1}{N}\\sum_{n = 1}^N y_n ln(\\theta) + (1 + y_n)ln(1-\\theta)$$"
   ]
  },
  {
   "cell_type": "code",
   "execution_count": 1,
   "id": "764b1540-974c-4a0a-ad3b-178a2412b74d",
   "metadata": {},
   "outputs": [],
   "source": [
    "import torch\n",
    "from torch.nn import Linear\n",
    "torch.manual_seed(1)\n",
    "import torch.nn as nn\n",
    "\n",
    "from torch import nn, optim\n",
    "from torch.utils.data import Dataset, DataLoader"
   ]
  },
  {
   "cell_type": "code",
   "execution_count": 2,
   "id": "4abc5f8d-9ac1-4ffc-a4ac-55f7e4f0420b",
   "metadata": {},
   "outputs": [],
   "source": [
    "class logistic_regression(nn.Module):\n",
    "    def __init__(self, input_size):\n",
    "        super(logistic_regression, self).__init__()\n",
    "        self.linear = nn.Linear(input_size, 1)\n",
    "        \n",
    "    def forward(self, x):\n",
    "        yhat = torch.sigmoid(self.linear(x))\n",
    "        return yhat"
   ]
  },
  {
   "cell_type": "code",
   "execution_count": 3,
   "id": "6a5081d7-5d40-44eb-b863-0f43696ac9db",
   "metadata": {},
   "outputs": [],
   "source": [
    "#Data\n",
    "class Data2D(Dataset):\n",
    "    def __init__(self):\n",
    "        self.x = torch.zeros(20, 2)\n",
    "        self.y = torch.zeros(20, 1)\n",
    "        self.x[:, 0] = torch.arange(-1, 1, 0.1)\n",
    "        self.x[:, 1] = torch.arange(-1, 1, 0.1)\n",
    "        self.w = torch.tensor([[1.0], [1.0]])\n",
    "        self.b = 1\n",
    "        self.f = torch.mm(self.x, self.w) + self.b\n",
    "        self.y[self.f < 0] = 1\n",
    "        self.len = self.x.shape[0]\n",
    "        \n",
    "    def __getitem__(self, index):\n",
    "        return self.x[index], self.y[index]\n",
    "    \n",
    "    def __len__(self):\n",
    "        return self.len"
   ]
  },
  {
   "cell_type": "markdown",
   "id": "82db1de9-d805-49b9-8ab4-d5f7b155f5cd",
   "metadata": {},
   "source": [
    "```python\n",
    "criterion = nn.CrossEntropyLoss() #cross entropy loss\n",
    "```"
   ]
  },
  {
   "cell_type": "code",
   "execution_count": 4,
   "id": "b06fc49d-fe1e-48c0-bdb2-789f3b9edae8",
   "metadata": {},
   "outputs": [],
   "source": [
    "def criterion(yhat, y):\n",
    "    out = -1 * torch.mean(y * torch.log(yhat) + (1 - y) * torch.log(1 - yhat))\n",
    "    return out"
   ]
  },
  {
   "cell_type": "code",
   "execution_count": 5,
   "id": "b0cf1b05-d1f1-4f71-844b-0d35d128a572",
   "metadata": {},
   "outputs": [],
   "source": [
    "data_set = Data2D()\n",
    "trainloader = DataLoader(dataset = data_set, batch_size = 1)\n",
    "model = logistic_regression(input_size= 2)\n",
    "optimizer = optim.SGD(model.parameters(), lr = 0.1)"
   ]
  },
  {
   "cell_type": "code",
   "execution_count": 6,
   "id": "7c955fb8-6429-4dbb-9d76-dccbf94a410a",
   "metadata": {},
   "outputs": [],
   "source": [
    "for epoch in range(100):\n",
    "    for x, y in trainloader:\n",
    "        \n",
    "        yhat = model(x)\n",
    "        loss = criterion(yhat, y)\n",
    "        optimizer.zero_grad()\n",
    "        loss.backward()\n",
    "        optimizer.step()"
   ]
  },
  {
   "cell_type": "code",
   "execution_count": 7,
   "id": "9aaada4d-e92c-42aa-81cf-a14fb6095682",
   "metadata": {},
   "outputs": [
    {
     "name": "stdout",
     "output_type": "stream",
     "text": [
      "None tensor([[-3.6910, -4.3674]])\n",
      "None tensor([-4.3696])\n"
     ]
    }
   ],
   "source": [
    "for p in model.parameters():\n",
    "    if p.requires_grad:\n",
    "         print(p.name, p.data)"
   ]
  },
  {
   "cell_type": "code",
   "execution_count": 9,
   "id": "8fba26a5-98e7-4d83-9383-85a3e47b3f00",
   "metadata": {},
   "outputs": [
    {
     "data": {
      "text/plain": [
       "tensor([[4.0047e-06]], grad_fn=<SigmoidBackward0>)"
      ]
     },
     "execution_count": 9,
     "metadata": {},
     "output_type": "execute_result"
    }
   ],
   "source": [
    "X = torch.tensor([[1.0, 1.0]])\n",
    "model(X)"
   ]
  },
  {
   "cell_type": "code",
   "execution_count": null,
   "id": "d1f08db0-37a8-45fa-bb46-6db441f58358",
   "metadata": {},
   "outputs": [],
   "source": []
  }
 ],
 "metadata": {
  "kernelspec": {
   "display_name": "AIML",
   "language": "python",
   "name": "aiml"
  },
  "language_info": {
   "codemirror_mode": {
    "name": "ipython",
    "version": 3
   },
   "file_extension": ".py",
   "mimetype": "text/x-python",
   "name": "python",
   "nbconvert_exporter": "python",
   "pygments_lexer": "ipython3",
   "version": "3.8.12"
  }
 },
 "nbformat": 4,
 "nbformat_minor": 5
}
