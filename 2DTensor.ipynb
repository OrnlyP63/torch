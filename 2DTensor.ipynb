{
 "cells": [
  {
   "cell_type": "code",
   "execution_count": 1,
   "id": "780ad82c-e522-4812-8547-f1f0d716666b",
   "metadata": {},
   "outputs": [],
   "source": [
    "import torch\n",
    "import numpy as np"
   ]
  },
  {
   "cell_type": "code",
   "execution_count": 2,
   "id": "4cfd4e52-47cb-4b25-8e4e-37a4d6a882ec",
   "metadata": {},
   "outputs": [],
   "source": [
    "a = [[0,1,2,3],[4,5,6,7],[8,9,10,11]]"
   ]
  },
  {
   "cell_type": "code",
   "execution_count": 3,
   "id": "ad1690c6-698c-46d5-a8cd-9cafffd9be57",
   "metadata": {},
   "outputs": [],
   "source": [
    "A = torch.tensor(a)"
   ]
  },
  {
   "cell_type": "code",
   "execution_count": 4,
   "id": "52093150-c160-4e50-b6ba-0799e29ba9c6",
   "metadata": {},
   "outputs": [
    {
     "data": {
      "text/plain": [
       "tensor([[ 0,  1,  2,  3],\n",
       "        [ 4,  5,  6,  7],\n",
       "        [ 8,  9, 10, 11]])"
      ]
     },
     "execution_count": 4,
     "metadata": {},
     "output_type": "execute_result"
    }
   ],
   "source": [
    "A"
   ]
  },
  {
   "cell_type": "code",
   "execution_count": 5,
   "id": "eba18b6e-e81a-41cb-86e3-d3c3e4fbde89",
   "metadata": {},
   "outputs": [
    {
     "data": {
      "text/plain": [
       "2"
      ]
     },
     "execution_count": 5,
     "metadata": {},
     "output_type": "execute_result"
    }
   ],
   "source": [
    "A.ndimension()"
   ]
  },
  {
   "cell_type": "code",
   "execution_count": 6,
   "id": "7ccfd740-e891-4707-b268-7d732a6728ea",
   "metadata": {},
   "outputs": [
    {
     "data": {
      "text/plain": [
       "torch.Size([3, 4])"
      ]
     },
     "execution_count": 6,
     "metadata": {},
     "output_type": "execute_result"
    }
   ],
   "source": [
    "A.shape"
   ]
  },
  {
   "cell_type": "code",
   "execution_count": 8,
   "id": "2d497abf-df45-4693-bb4a-0b4180e0ee5c",
   "metadata": {},
   "outputs": [
    {
     "data": {
      "text/plain": [
       "torch.Size([3, 4])"
      ]
     },
     "execution_count": 8,
     "metadata": {},
     "output_type": "execute_result"
    }
   ],
   "source": [
    "A.size()"
   ]
  },
  {
   "cell_type": "code",
   "execution_count": 9,
   "id": "43f4c685-10c0-49cd-a004-44b372d0cac8",
   "metadata": {},
   "outputs": [
    {
     "data": {
      "text/plain": [
       "12"
      ]
     },
     "execution_count": 9,
     "metadata": {},
     "output_type": "execute_result"
    }
   ],
   "source": [
    "A.numel()"
   ]
  },
  {
   "cell_type": "code",
   "execution_count": 10,
   "id": "0454adba-f7b1-4f35-8c5f-1f2a0b9cb08c",
   "metadata": {},
   "outputs": [
    {
     "data": {
      "text/plain": [
       "tensor(0)"
      ]
     },
     "execution_count": 10,
     "metadata": {},
     "output_type": "execute_result"
    }
   ],
   "source": [
    "A[0, 0]"
   ]
  },
  {
   "cell_type": "code",
   "execution_count": 11,
   "id": "e3d87f3a-f94f-4c09-8236-d41c78bd9c5c",
   "metadata": {},
   "outputs": [
    {
     "data": {
      "text/plain": [
       "tensor(0)"
      ]
     },
     "execution_count": 11,
     "metadata": {},
     "output_type": "execute_result"
    }
   ],
   "source": [
    "A[0][0]"
   ]
  },
  {
   "cell_type": "code",
   "execution_count": 12,
   "id": "0115346f-c5b9-41da-9360-cc617ce927b3",
   "metadata": {},
   "outputs": [
    {
     "data": {
      "text/plain": [
       "tensor([ 6, 10])"
      ]
     },
     "execution_count": 12,
     "metadata": {},
     "output_type": "execute_result"
    }
   ],
   "source": [
    "A[1:3, 2 ]"
   ]
  },
  {
   "cell_type": "code",
   "execution_count": 13,
   "id": "3547806c-db25-46d6-87b3-d04fcf1f5efc",
   "metadata": {},
   "outputs": [],
   "source": [
    "X = torch.tensor([[1, 0], [0, 1]])\n",
    "Y = torch.tensor([[2, 1], [1, 2]])"
   ]
  },
  {
   "cell_type": "code",
   "execution_count": 14,
   "id": "da8826d5-ae33-42b0-9228-cd6642915e9f",
   "metadata": {},
   "outputs": [
    {
     "data": {
      "text/plain": [
       "tensor([[3, 1],\n",
       "        [1, 3]])"
      ]
     },
     "execution_count": 14,
     "metadata": {},
     "output_type": "execute_result"
    }
   ],
   "source": [
    "X + Y"
   ]
  },
  {
   "cell_type": "code",
   "execution_count": 15,
   "id": "a28afc6c-450b-436a-b615-9fd0219ed1e9",
   "metadata": {},
   "outputs": [
    {
     "data": {
      "text/plain": [
       "tensor([[4, 2],\n",
       "        [2, 4]])"
      ]
     },
     "execution_count": 15,
     "metadata": {},
     "output_type": "execute_result"
    }
   ],
   "source": [
    "2 * Y"
   ]
  },
  {
   "cell_type": "code",
   "execution_count": 16,
   "id": "5e83e643-d54f-431e-9bae-d6d74d168515",
   "metadata": {},
   "outputs": [
    {
     "data": {
      "text/plain": [
       "tensor([[2, 0],\n",
       "        [0, 2]])"
      ]
     },
     "execution_count": 16,
     "metadata": {},
     "output_type": "execute_result"
    }
   ],
   "source": [
    "X * Y"
   ]
  },
  {
   "cell_type": "code",
   "execution_count": 19,
   "id": "992c6c51-d922-4e73-83d1-50b3008307f1",
   "metadata": {},
   "outputs": [
    {
     "data": {
      "text/plain": [
       "tensor([[2, 1],\n",
       "        [1, 2]])"
      ]
     },
     "execution_count": 19,
     "metadata": {},
     "output_type": "execute_result"
    }
   ],
   "source": [
    "torch.matmul(X, Y)"
   ]
  },
  {
   "cell_type": "code",
   "execution_count": null,
   "id": "2805d31c-b788-4d36-9b76-a12e5f6d5159",
   "metadata": {},
   "outputs": [],
   "source": []
  }
 ],
 "metadata": {
  "kernelspec": {
   "display_name": "AIML",
   "language": "python",
   "name": "aiml"
  },
  "language_info": {
   "codemirror_mode": {
    "name": "ipython",
    "version": 3
   },
   "file_extension": ".py",
   "mimetype": "text/x-python",
   "name": "python",
   "nbconvert_exporter": "python",
   "pygments_lexer": "ipython3",
   "version": "3.8.12"
  }
 },
 "nbformat": 4,
 "nbformat_minor": 5
}
