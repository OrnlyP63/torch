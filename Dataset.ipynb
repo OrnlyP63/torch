{
 "cells": [
  {
   "cell_type": "code",
   "execution_count": 1,
   "id": "202104ad-a18b-4dfc-b9c1-12d2bdebaa1e",
   "metadata": {},
   "outputs": [],
   "source": [
    "from PIL import Image\n",
    "import pandas as pd\n",
    "import os\n",
    "import matplotlib.pyplot as plt\n",
    "from torch.utils.data import Dataset, DataLoader"
   ]
  },
  {
   "cell_type": "code",
   "execution_count": 18,
   "id": "dd2272d3-dd19-41f9-b6c3-312350cabab8",
   "metadata": {
    "tags": []
   },
   "outputs": [],
   "source": [
    "import torchvision.transforms as transforms"
   ]
  },
  {
   "cell_type": "code",
   "execution_count": 2,
   "id": "3f926082-8bef-48fb-a2e1-f00c3765cc87",
   "metadata": {},
   "outputs": [],
   "source": [
    "directory = 'resource'\n",
    "csv_file = 'pokemon.csv'\n",
    "csv_path = os.path.join(directory, csv_file)"
   ]
  },
  {
   "cell_type": "code",
   "execution_count": 3,
   "id": "0a3e02fa-3274-4a6b-a919-01c58dc673e0",
   "metadata": {},
   "outputs": [],
   "source": [
    "data_name = pd.read_csv(csv_path)"
   ]
  },
  {
   "cell_type": "code",
   "execution_count": 4,
   "id": "e3224f44-7f75-48d8-9fcf-5ff3508ec052",
   "metadata": {},
   "outputs": [],
   "source": [
    "file = os.listdir('resource/images/')"
   ]
  },
  {
   "cell_type": "code",
   "execution_count": 5,
   "id": "bef0b2ca-300b-4fad-a700-d0d01f6e3d58",
   "metadata": {},
   "outputs": [],
   "source": [
    "file_dict = {}\n",
    "for f in file:\n",
    "    name, _ = f.split('.')\n",
    "    file_dict[name] = f"
   ]
  },
  {
   "cell_type": "code",
   "execution_count": 6,
   "id": "9a612dcf-9733-4f9c-b876-618503b6d725",
   "metadata": {},
   "outputs": [],
   "source": [
    "data_name['File'] = data_name['Name'].apply(lambda x: file_dict[x])"
   ]
  },
  {
   "cell_type": "code",
   "execution_count": 7,
   "id": "709a34e9-422f-4382-8e04-b062fed01ed5",
   "metadata": {},
   "outputs": [
    {
     "data": {
      "text/html": [
       "<div>\n",
       "<style scoped>\n",
       "    .dataframe tbody tr th:only-of-type {\n",
       "        vertical-align: middle;\n",
       "    }\n",
       "\n",
       "    .dataframe tbody tr th {\n",
       "        vertical-align: top;\n",
       "    }\n",
       "\n",
       "    .dataframe thead th {\n",
       "        text-align: right;\n",
       "    }\n",
       "</style>\n",
       "<table border=\"1\" class=\"dataframe\">\n",
       "  <thead>\n",
       "    <tr style=\"text-align: right;\">\n",
       "      <th></th>\n",
       "      <th>Name</th>\n",
       "      <th>Type1</th>\n",
       "      <th>Type2</th>\n",
       "      <th>File</th>\n",
       "    </tr>\n",
       "  </thead>\n",
       "  <tbody>\n",
       "    <tr>\n",
       "      <th>0</th>\n",
       "      <td>bulbasaur</td>\n",
       "      <td>Grass</td>\n",
       "      <td>Poison</td>\n",
       "      <td>bulbasaur.png</td>\n",
       "    </tr>\n",
       "    <tr>\n",
       "      <th>1</th>\n",
       "      <td>ivysaur</td>\n",
       "      <td>Grass</td>\n",
       "      <td>Poison</td>\n",
       "      <td>ivysaur.png</td>\n",
       "    </tr>\n",
       "    <tr>\n",
       "      <th>2</th>\n",
       "      <td>venusaur</td>\n",
       "      <td>Grass</td>\n",
       "      <td>Poison</td>\n",
       "      <td>venusaur.png</td>\n",
       "    </tr>\n",
       "    <tr>\n",
       "      <th>3</th>\n",
       "      <td>charmander</td>\n",
       "      <td>Fire</td>\n",
       "      <td>NaN</td>\n",
       "      <td>charmander.png</td>\n",
       "    </tr>\n",
       "    <tr>\n",
       "      <th>4</th>\n",
       "      <td>charmeleon</td>\n",
       "      <td>Fire</td>\n",
       "      <td>NaN</td>\n",
       "      <td>charmeleon.png</td>\n",
       "    </tr>\n",
       "    <tr>\n",
       "      <th>...</th>\n",
       "      <td>...</td>\n",
       "      <td>...</td>\n",
       "      <td>...</td>\n",
       "      <td>...</td>\n",
       "    </tr>\n",
       "    <tr>\n",
       "      <th>804</th>\n",
       "      <td>stakataka</td>\n",
       "      <td>Rock</td>\n",
       "      <td>Steel</td>\n",
       "      <td>stakataka.jpg</td>\n",
       "    </tr>\n",
       "    <tr>\n",
       "      <th>805</th>\n",
       "      <td>blacephalon</td>\n",
       "      <td>Fire</td>\n",
       "      <td>Ghost</td>\n",
       "      <td>blacephalon.jpg</td>\n",
       "    </tr>\n",
       "    <tr>\n",
       "      <th>806</th>\n",
       "      <td>zeraora</td>\n",
       "      <td>Electric</td>\n",
       "      <td>NaN</td>\n",
       "      <td>zeraora.jpg</td>\n",
       "    </tr>\n",
       "    <tr>\n",
       "      <th>807</th>\n",
       "      <td>meltan</td>\n",
       "      <td>Steel</td>\n",
       "      <td>NaN</td>\n",
       "      <td>meltan.jpg</td>\n",
       "    </tr>\n",
       "    <tr>\n",
       "      <th>808</th>\n",
       "      <td>melmetal</td>\n",
       "      <td>Steel</td>\n",
       "      <td>NaN</td>\n",
       "      <td>melmetal.jpg</td>\n",
       "    </tr>\n",
       "  </tbody>\n",
       "</table>\n",
       "<p>809 rows × 4 columns</p>\n",
       "</div>"
      ],
      "text/plain": [
       "            Name     Type1   Type2             File\n",
       "0      bulbasaur     Grass  Poison    bulbasaur.png\n",
       "1        ivysaur     Grass  Poison      ivysaur.png\n",
       "2       venusaur     Grass  Poison     venusaur.png\n",
       "3     charmander      Fire     NaN   charmander.png\n",
       "4     charmeleon      Fire     NaN   charmeleon.png\n",
       "..           ...       ...     ...              ...\n",
       "804    stakataka      Rock   Steel    stakataka.jpg\n",
       "805  blacephalon      Fire   Ghost  blacephalon.jpg\n",
       "806      zeraora  Electric     NaN      zeraora.jpg\n",
       "807       meltan     Steel     NaN       meltan.jpg\n",
       "808     melmetal     Steel     NaN     melmetal.jpg\n",
       "\n",
       "[809 rows x 4 columns]"
      ]
     },
     "execution_count": 7,
     "metadata": {},
     "output_type": "execute_result"
    }
   ],
   "source": [
    "data_name"
   ]
  },
  {
   "cell_type": "code",
   "execution_count": 8,
   "id": "75338a2f-43bc-4719-98bd-1e08954c0a60",
   "metadata": {},
   "outputs": [],
   "source": [
    "#data_name.to_csv('resource/pokemon_train.csv')"
   ]
  },
  {
   "cell_type": "code",
   "execution_count": 9,
   "id": "8d3563f0-d453-49a0-ae03-f9a6ccce648c",
   "metadata": {},
   "outputs": [
    {
     "name": "stdout",
     "output_type": "stream",
     "text": [
      "File name:  ivysaur.png\n",
      "Class:  Grass\n"
     ]
    }
   ],
   "source": [
    "print('File name: ', data_name.iloc[1, 3])\n",
    "print('Class: ', data_name.iloc[1, 1])"
   ]
  },
  {
   "cell_type": "code",
   "execution_count": 10,
   "id": "7f473a68-7bc0-47c0-a928-6c6178d47e22",
   "metadata": {},
   "outputs": [],
   "source": [
    "image_name = data_name.iloc[1, 3]\n",
    "image_path = os.path.join('resource/images', image_name)"
   ]
  },
  {
   "cell_type": "code",
   "execution_count": 11,
   "id": "a835dae0-9258-4d44-85c5-1db5068c091d",
   "metadata": {},
   "outputs": [
    {
     "data": {
      "image/png": "[encoded data removed]",
      "text/plain": [
       "<Figure size 432x288 with 1 Axes>"
      ]
     },
     "metadata": {
      "needs_background": "light"
     },
     "output_type": "display_data"
    }
   ],
   "source": [
    "image = Image.open(image_path)\n",
    "plt.imshow(image, cmap='gray', vmin=0, vmax=255)\n",
    "plt.title(data_name.iloc[1, 0])\n",
    "plt.show()"
   ]
  },
  {
   "cell_type": "code",
   "execution_count": 12,
   "id": "b9124e1f-a0b2-4359-9bf2-4747a408c227",
   "metadata": {},
   "outputs": [],
   "source": [
    "class Dataset(Dataset):\n",
    "    def __init__(self, csv_file, data_dir, transform=None):\n",
    "        self.transform = transform\n",
    "        \n",
    "        self.data_dir = data_dir\n",
    "        data_dircsv_file = os.path.join(self.data_dir, csv_file)\n",
    "        \n",
    "        self.data_name = pd.read_csv(data_dircsv_file, index_col=0)\n",
    "        \n",
    "        self.len = self.data_name.shape[0]\n",
    "        \n",
    "    def __len__(self):\n",
    "        return self.len\n",
    "    \n",
    "    def __getitem__(self, idx):\n",
    "        \n",
    "        image_name = os.path.join(self.data_dir, 'images' , self.data_name.iloc[idx, 3])\n",
    "        image = Image.open(image_name)\n",
    "        \n",
    "        y = self.data_name.iloc[idx, 1]\n",
    "\n",
    "        if self.transform:\n",
    "            image = self.transform(image)\n",
    "            \n",
    "        return image, y"
   ]
  },
  {
   "cell_type": "code",
   "execution_count": 14,
   "id": "edba1969-d9f6-45f2-bd4a-4c7741e88122",
   "metadata": {},
   "outputs": [],
   "source": [
    "croptensor_data_transform = transforms.Compose([transforms.CenterCrop(50), transforms.ToTensor()])"
   ]
  },
  {
   "cell_type": "code",
   "execution_count": 15,
   "id": "cf9d48f4-9a94-4772-814b-af0329b5740b",
   "metadata": {},
   "outputs": [],
   "source": [
    "dataset = Dataset(csv_file='pokemon_train.csv', data_dir='resource', transform=croptensor_data_transform)"
   ]
  },
  {
   "cell_type": "code",
   "execution_count": 16,
   "id": "8aa57c22-58f4-430a-9c51-48d663f3a97d",
   "metadata": {},
   "outputs": [],
   "source": [
    "x, y = dataset[0]"
   ]
  },
  {
   "cell_type": "code",
   "execution_count": 17,
   "id": "be332174-2ace-47f4-870a-580800c1953b",
   "metadata": {},
   "outputs": [
    {
     "data": {
      "image/png": "[encoded data removed]",
      "text/plain": [
       "<Figure size 432x288 with 1 Axes>"
      ]
     },
     "metadata": {
      "needs_background": "light"
     },
     "output_type": "display_data"
    }
   ],
   "source": [
    "plt.imshow(x.numpy()[0])\n",
    "plt.title(y)\n",
    "plt.show()"
   ]
  },
  {
   "cell_type": "code",
   "execution_count": null,
   "id": "b7f38de1-2728-491b-af58-d1b3240b3677",
   "metadata": {},
   "outputs": [],
   "source": []
  }
 ],
 "metadata": {
  "kernelspec": {
   "display_name": "AIML",
   "language": "python",
   "name": "aiml"
  },
  "language_info": {
   "codemirror_mode": {
    "name": "ipython",
    "version": 3
   },
   "file_extension": ".py",
   "mimetype": "text/x-python",
   "name": "python",
   "nbconvert_exporter": "python",
   "pygments_lexer": "ipython3",
   "version": "3.8.12"
  }
 },
 "nbformat": 4,
 "nbformat_minor": 5
}
