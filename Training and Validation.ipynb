{
 "cells": [
  {
   "cell_type": "markdown",
   "id": "c01a5eef-94ee-4af9-9e8e-ec2d63792992",
   "metadata": {},
   "source": [
    "Let $K$ be number of sample and $N$ is number of batch size.\n",
    "\n",
    "**data set:** $D = {(x_1,y_1), \\ldots, (x_K, y_K)}$\n",
    "\n",
    "**Parameters:** $w, b$\n",
    "\n",
    "**Hyperparameters:** $N, \\eta$\n",
    "\n",
    "$$w^*, b^* = \\underset{w,b}{\\operatorname{argmin}}l(w, b)$$"
   ]
  },
  {
   "cell_type": "markdown",
   "id": "e4bd8e7b-35a4-4311-b597-6aa3af7afe56",
   "metadata": {},
   "source": [
    "![](flowtrain.png)"
   ]
  },
  {
   "cell_type": "markdown",
   "id": "da082bd5-280d-4351-b23a-111ca0fe736d",
   "metadata": {},
   "source": [
    "# Example"
   ]
  },
  {
   "cell_type": "code",
   "execution_count": 1,
   "id": "3668c2ed-f820-46ef-84fb-b95d24e87619",
   "metadata": {},
   "outputs": [],
   "source": [
    "import torch\n",
    "from torch import nn, optim\n",
    "from torch.utils.data import Dataset, DataLoader\n",
    "import matplotlib.pyplot as plt\n",
    "import numpy as np"
   ]
  },
  {
   "cell_type": "code",
   "execution_count": 2,
   "id": "0dbd3494-3e6d-436c-9da3-27d9f7b81f98",
   "metadata": {},
   "outputs": [],
   "source": [
    "class Data(Dataset):\n",
    "    def __init__(self, train=True):\n",
    "        self.x = torch.arange(-3, 3, 0.1).view(-1, 1)\n",
    "        self.f = -3 * self.x + 1\n",
    "        self.y = self.f + 0.1 * torch.randn(self.x.size())\n",
    "        self.len = self.x.shape[0]\n",
    "    \n",
    "        if train == True:\n",
    "            self.y[0] = 0\n",
    "            self.y[50:55] = 20\n",
    "        else:\n",
    "            pass\n",
    "        \n",
    "    def __getitem__(self, index):\n",
    "        return self.x[index], self.y[index]\n",
    "    \n",
    "    def __len__(self):\n",
    "        return self.len"
   ]
  },
  {
   "cell_type": "code",
   "execution_count": 3,
   "id": "0f6ae89f-bea7-4e34-ba62-d2726ecf7a02",
   "metadata": {},
   "outputs": [],
   "source": [
    "train_data = Data()\n",
    "val_data = Data(train=False)"
   ]
  },
  {
   "cell_type": "code",
   "execution_count": 4,
   "id": "2fe55167-1c91-4066-8cc1-a130376bd92f",
   "metadata": {},
   "outputs": [
    {
     "data": {
      "image/png": "[encoded data removed]",
      "text/plain": [
       "<Figure size 432x288 with 1 Axes>"
      ]
     },
     "metadata": {
      "needs_background": "light"
     },
     "output_type": "display_data"
    }
   ],
   "source": [
    "plt.plot(train_data.x.numpy(), train_data.y.numpy(), 'rx')\n",
    "plt.title('Train data')\n",
    "plt.show()"
   ]
  },
  {
   "cell_type": "code",
   "execution_count": 5,
   "id": "75f8c2bd-dc27-41d7-a2c2-e14d63b1ed35",
   "metadata": {},
   "outputs": [
    {
     "data": {
      "image/png": "[encoded data removed]",
      "text/plain": [
       "<Figure size 432x288 with 1 Axes>"
      ]
     },
     "metadata": {
      "needs_background": "light"
     },
     "output_type": "display_data"
    }
   ],
   "source": [
    "plt.plot(val_data.x.numpy(), val_data.y.numpy(), 'bx')\n",
    "plt.title('Validate data')\n",
    "plt.show()"
   ]
  },
  {
   "cell_type": "code",
   "execution_count": 6,
   "id": "d4aaa797-3a75-4f93-90d1-f0051e85bbab",
   "metadata": {},
   "outputs": [],
   "source": [
    "criterion = nn.MSELoss()"
   ]
  },
  {
   "cell_type": "code",
   "execution_count": 7,
   "id": "19e28671-b2c6-45ab-bbaa-a945cf155ca5",
   "metadata": {},
   "outputs": [],
   "source": [
    "class LR(nn.Module):\n",
    "    def __init__(self, input_size, output_size):\n",
    "        super(LR, self).__init__()\n",
    "        \n",
    "        self.linear = nn.Linear(input_size, output_size)\n",
    "        \n",
    "    def forward(self, x):\n",
    "        out = self.linear(x)\n",
    "        return out"
   ]
  },
  {
   "cell_type": "code",
   "execution_count": 8,
   "id": "c25f4c7f-00ac-4c0a-a8bd-afbd49e489af",
   "metadata": {},
   "outputs": [],
   "source": [
    "trainloader = DataLoader(dataset = train_data, batch_size = 1)"
   ]
  },
  {
   "cell_type": "code",
   "execution_count": 9,
   "id": "4e0f1671-fe20-4e2d-964f-da3b329b11c1",
   "metadata": {},
   "outputs": [],
   "source": [
    "epochs = 10\n",
    "learning_rates = [0.0001, 0.001, 0.01, 0.1, 1]\n",
    "validation_error = torch.zeros(len(learning_rates))\n",
    "test_error = torch.zeros(len(learning_rates))\n",
    "\n",
    "MODELS = []"
   ]
  },
  {
   "cell_type": "code",
   "execution_count": 10,
   "id": "7a3b81b6-b5c7-4613-a748-8312bbcc2486",
   "metadata": {},
   "outputs": [],
   "source": [
    "for i, learning_rate in enumerate(learning_rates):\n",
    "    \n",
    "    model = LR(1, 1)\n",
    "    optimizer = optim.SGD(model.parameters(), lr = learning_rate)\n",
    "    \n",
    "    for epoch in range(epochs):\n",
    "        for x, y in trainloader:\n",
    "            yhat = model(x)\n",
    "            loss = criterion(yhat, y)\n",
    "            optimizer.zero_grad()\n",
    "            loss.backward()\n",
    "            optimizer.step()\n",
    "            \n",
    "    yhat = model(train_data.x)\n",
    "    loss = criterion(yhat, train_data.y)\n",
    "    test_error[i] = loss.item()\n",
    "    \n",
    "    yhat = model(val_data.x)\n",
    "    loss = criterion(yhat, val_data.y)\n",
    "    validation_error[i] = loss.item()\n",
    "    \n",
    "    MODELS.append(model)"
   ]
  },
  {
   "cell_type": "code",
   "execution_count": 11,
   "id": "c118c3e3-8ac7-450f-9427-383e10f4bd69",
   "metadata": {},
   "outputs": [
    {
     "data": {
      "text/plain": [
       "tensor([55.3434, 43.9179, 43.3290, 72.3921,     nan])"
      ]
     },
     "execution_count": 11,
     "metadata": {},
     "output_type": "execute_result"
    }
   ],
   "source": [
    "test_error"
   ]
  },
  {
   "cell_type": "code",
   "execution_count": 12,
   "id": "0596143f-ca05-416a-8ddd-e31386e3f61d",
   "metadata": {},
   "outputs": [
    {
     "data": {
      "text/plain": [
       "tensor([19.9599, 11.3231, 10.6656,  4.7692,     nan])"
      ]
     },
     "execution_count": 12,
     "metadata": {},
     "output_type": "execute_result"
    }
   ],
   "source": [
    "validation_error"
   ]
  },
  {
   "cell_type": "code",
   "execution_count": 13,
   "id": "181c52ae-1db6-43ef-9a7f-43151792853b",
   "metadata": {},
   "outputs": [
    {
     "data": {
      "image/png": "[encoded data removed]",
      "text/plain": [
       "<Figure size 432x288 with 1 Axes>"
      ]
     },
     "metadata": {
      "needs_background": "light"
     },
     "output_type": "display_data"
    }
   ],
   "source": [
    "plt.semilogx(np.array(learning_rates), validation_error.numpy(), label='training Cost')\n",
    "plt.semilogx(np.array(learning_rates), test_error.numpy(), label='validation  Cost')\n",
    "plt.xlabel('learning rate')\n",
    "plt.ylabel('Cost')\n",
    "plt.legend()\n",
    "plt.show()"
   ]
  },
  {
   "cell_type": "code",
   "execution_count": 15,
   "id": "7b82f37d-ec67-4860-9f3f-67b909e9a822",
   "metadata": {},
   "outputs": [
    {
     "data": {
      "text/plain": [
       "<matplotlib.legend.Legend at 0x1feb2061a60>"
      ]
     },
     "execution_count": 15,
     "metadata": {},
     "output_type": "execute_result"
    },
    {
     "data": {
      "image/png": "[encoded data removed]",
      "text/plain": [
       "<Figure size 432x288 with 1 Axes>"
      ]
     },
     "metadata": {
      "needs_background": "light"
     },
     "output_type": "display_data"
    }
   ],
   "source": [
    "for model, learning_rate in zip(MODELS, learning_rates):\n",
    "    \n",
    "    yhat = model(val_data.x)\n",
    "    plt.plot(val_data.x.numpy(), yhat.detach().numpy(), label = f'lr: {learning_rate}')\n",
    "\n",
    "plt.plot(val_data.x.numpy(), val_data.y.numpy(), 'xr', label = 'validation data')\n",
    "plt.xlabel('x')\n",
    "plt.ylabel('y')\n",
    "plt.legend()"
   ]
  },
  {
   "cell_type": "code",
   "execution_count": null,
   "id": "f626a13c-f6a2-4f9d-9d1d-74607728e90b",
   "metadata": {},
   "outputs": [],
   "source": []
  }
 ],
 "metadata": {
  "kernelspec": {
   "display_name": "AIML",
   "language": "python",
   "name": "aiml"
  },
  "language_info": {
   "codemirror_mode": {
    "name": "ipython",
    "version": 3
   },
   "file_extension": ".py",
   "mimetype": "text/x-python",
   "name": "python",
   "nbconvert_exporter": "python",
   "pygments_lexer": "ipython3",
   "version": "3.8.12"
  }
 },
 "nbformat": 4,
 "nbformat_minor": 5
}
