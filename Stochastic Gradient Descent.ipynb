{
 "cells": [
  {
   "cell_type": "code",
   "execution_count": 1,
   "id": "4b206598-671c-41bb-8e80-216426144e6d",
   "metadata": {},
   "outputs": [],
   "source": [
    "import torch\n",
    "import matplotlib.pyplot as plt"
   ]
  },
  {
   "cell_type": "markdown",
   "id": "0c4066c8-912d-461d-816e-baab0cf5f2da",
   "metadata": {},
   "source": [
    "# Stochastic Gradient Desenct.\n",
    "\n",
    "- In Stochastic gradient descent, we use one sample at a time.\n",
    "\n",
    "- But, the problem with Stochastic Gradient Descent is the approximate cost will fluctuate rapidly."
   ]
  },
  {
   "cell_type": "markdown",
   "id": "b58346dd-fad9-4342-b323-57eb445e40ef",
   "metadata": {},
   "source": [
    "# Example"
   ]
  },
  {
   "cell_type": "code",
   "execution_count": 2,
   "id": "704914f3-4295-40a9-9ea4-ffd9a5b85bd1",
   "metadata": {},
   "outputs": [],
   "source": [
    "X = torch.arange(-3.0, 3.0, 0.1).view(-1, 1)\n",
    "f = -3 * X"
   ]
  },
  {
   "cell_type": "code",
   "execution_count": 3,
   "id": "9c58cfcb-5107-4ec5-9f8d-d3dee7f1c143",
   "metadata": {},
   "outputs": [
    {
     "data": {
      "image/png": "[encoded data removed]",
      "text/plain": [
       "<Figure size 432x288 with 1 Axes>"
      ]
     },
     "metadata": {
      "needs_background": "light"
     },
     "output_type": "display_data"
    }
   ],
   "source": [
    "plt.plot(X.numpy(), f.numpy())\n",
    "plt.show()"
   ]
  },
  {
   "cell_type": "code",
   "execution_count": 4,
   "id": "c295e982-7268-4234-8fb5-2ac47123a1e6",
   "metadata": {},
   "outputs": [],
   "source": [
    "Y = f + 0.1 * torch.randn(X.size())"
   ]
  },
  {
   "cell_type": "code",
   "execution_count": 5,
   "id": "2b3c8df9-120d-40fa-9f77-879856a04540",
   "metadata": {},
   "outputs": [
    {
     "data": {
      "image/png": "[encoded data removed]",
      "text/plain": [
       "<Figure size 432x288 with 1 Axes>"
      ]
     },
     "metadata": {
      "needs_background": "light"
     },
     "output_type": "display_data"
    }
   ],
   "source": [
    "plt.plot(X.numpy(), Y.numpy(), 'ro')\n",
    "plt.show()"
   ]
  },
  {
   "cell_type": "markdown",
   "id": "05f2dcdb-c499-4455-9f72-3aefcb212418",
   "metadata": {},
   "source": [
    "Decission function: $\\hat{y} = wx + b$\n",
    "\n",
    "Cost function: $\\frac{1}{N}\\sum_{n=1}^N (y_n - (wx_n + b))^2$\n",
    "\n",
    "learning rate: $\\eta = 0.1$\n",
    "\n",
    "initial weight: $w_0 = 0$\n",
    "\n",
    "initial bias: $b_0 = 0$"
   ]
  },
  {
   "cell_type": "code",
   "execution_count": 6,
   "id": "329e7069-5374-422b-b1ed-4a877facbd50",
   "metadata": {},
   "outputs": [],
   "source": [
    "w = torch.tensor(0.0, requires_grad = True)\n",
    "b = torch.tensor(0.0, requires_grad = True)"
   ]
  },
  {
   "cell_type": "code",
   "execution_count": 7,
   "id": "e767a805-0d17-4b49-916a-3eedab7b5386",
   "metadata": {},
   "outputs": [],
   "source": [
    "def forward(X):\n",
    "    return w * X + b\n",
    "\n",
    "def criterion(yhat, y):\n",
    "    return torch.mean((yhat - y) ** 2)"
   ]
  },
  {
   "cell_type": "markdown",
   "id": "6e773828-59a2-4147-9c6a-975fa833fb70",
   "metadata": {},
   "source": [
    "**In Stochastic Gradient Descent, one epoch is not the same as one iteration**"
   ]
  },
  {
   "cell_type": "code",
   "execution_count": 8,
   "id": "0912bd52-26ef-4cfd-bee5-15d884d2ebc5",
   "metadata": {},
   "outputs": [],
   "source": [
    "lr = 0.1\n",
    "COST = []\n",
    "for epoch in range(4):\n",
    "    total = 0\n",
    "    for x, y in zip(X, Y):\n",
    "        yhat = forward(x)\n",
    "        loss = criterion(yhat, y)\n",
    "        loss.backward()\n",
    "\n",
    "        w.data = w.data - lr * w.grad.data\n",
    "        w.grad.data.zero_()\n",
    "\n",
    "        b.data = b.data - lr * b.grad.data\n",
    "        b.grad.data.zero_()\n",
    "        total += loss.item()\n",
    "        \n",
    "    COST.append(total)"
   ]
  },
  {
   "cell_type": "code",
   "execution_count": 9,
   "id": "2b574765-9165-435b-b424-b9643052c8a2",
   "metadata": {},
   "outputs": [
    {
     "data": {
      "image/png": "[encoded data removed]",
      "text/plain": [
       "<Figure size 432x288 with 1 Axes>"
      ]
     },
     "metadata": {
      "needs_background": "light"
     },
     "output_type": "display_data"
    }
   ],
   "source": [
    "plt.plot(range(len(COST)), COST)\n",
    "plt.title('Cost')\n",
    "plt.show()"
   ]
  },
  {
   "cell_type": "code",
   "execution_count": 10,
   "id": "106bab0a-8543-4517-962c-fe6d1cc58a7e",
   "metadata": {},
   "outputs": [
    {
     "data": {
      "text/plain": [
       "tensor(-2.8254, requires_grad=True)"
      ]
     },
     "execution_count": 10,
     "metadata": {},
     "output_type": "execute_result"
    }
   ],
   "source": [
    "w"
   ]
  },
  {
   "cell_type": "code",
   "execution_count": 11,
   "id": "119482da-764b-4d96-a3b3-2f8a04b73bf5",
   "metadata": {},
   "outputs": [
    {
     "data": {
      "text/plain": [
       "tensor(0.0542, requires_grad=True)"
      ]
     },
     "execution_count": 11,
     "metadata": {},
     "output_type": "execute_result"
    }
   ],
   "source": [
    "b"
   ]
  },
  {
   "cell_type": "markdown",
   "id": "73221e67-326e-410f-a8ee-082c460c94d0",
   "metadata": {},
   "source": [
    "# Dataset"
   ]
  },
  {
   "cell_type": "code",
   "execution_count": 12,
   "id": "76f4b55a-fd21-431b-93b5-053881899d30",
   "metadata": {},
   "outputs": [],
   "source": [
    "from torch.utils.data import Dataset, DataLoader"
   ]
  },
  {
   "cell_type": "code",
   "execution_count": 13,
   "id": "604e7a03-4309-495b-84c0-b8b063df878b",
   "metadata": {},
   "outputs": [],
   "source": [
    "class Data(Dataset):\n",
    "    def __init__(self):\n",
    "        self.x = torch.arange(-3, 3, 0.1).view(-1, 1)\n",
    "        f = -3 * self.x + 1\n",
    "        self.y = f + 0.1 * torch.randn(X.size())\n",
    "        \n",
    "        self.len = self.x.shape[0]\n",
    "        \n",
    "    def __getitem__(self, index):\n",
    "        return self.x[index], self.y[index]\n",
    "    \n",
    "    def __len__(self):\n",
    "        return self.len"
   ]
  },
  {
   "cell_type": "code",
   "execution_count": 14,
   "id": "778e88fb-ee3e-4e41-b079-9a25cf3f1b02",
   "metadata": {},
   "outputs": [],
   "source": [
    "dataset = Data()"
   ]
  },
  {
   "cell_type": "code",
   "execution_count": 15,
   "id": "e26b1aa1-77a3-4118-8048-0862f64a1570",
   "metadata": {},
   "outputs": [
    {
     "data": {
      "text/plain": [
       "60"
      ]
     },
     "execution_count": 15,
     "metadata": {},
     "output_type": "execute_result"
    }
   ],
   "source": [
    "len(dataset)"
   ]
  },
  {
   "cell_type": "code",
   "execution_count": 16,
   "id": "6625b039-75bd-4d63-9929-183023893b5c",
   "metadata": {},
   "outputs": [],
   "source": [
    "x, y = dataset[0]"
   ]
  },
  {
   "cell_type": "code",
   "execution_count": 17,
   "id": "e413a2af-dfc4-41f0-a535-cbfc2fdac4c9",
   "metadata": {},
   "outputs": [
    {
     "data": {
      "text/plain": [
       "tensor([-3.])"
      ]
     },
     "execution_count": 17,
     "metadata": {},
     "output_type": "execute_result"
    }
   ],
   "source": [
    "x"
   ]
  },
  {
   "cell_type": "code",
   "execution_count": 18,
   "id": "7e73c36f-1292-42ce-ac57-1cfb5f73920c",
   "metadata": {},
   "outputs": [
    {
     "data": {
      "text/plain": [
       "tensor([9.9513])"
      ]
     },
     "execution_count": 18,
     "metadata": {},
     "output_type": "execute_result"
    }
   ],
   "source": [
    "y"
   ]
  },
  {
   "cell_type": "code",
   "execution_count": 19,
   "id": "d122dc0e-6bf2-47aa-93ce-d5075977d570",
   "metadata": {},
   "outputs": [],
   "source": [
    "trainloader = DataLoader(dataset = dataset, batch_size = 1)"
   ]
  },
  {
   "cell_type": "markdown",
   "id": "7dc990af-7786-400f-9d80-44550146e5ec",
   "metadata": {},
   "source": [
    "### Train with dataloader"
   ]
  },
  {
   "cell_type": "code",
   "execution_count": 20,
   "id": "9b1f82a2-391f-486e-8f72-87fa832eb4b7",
   "metadata": {},
   "outputs": [],
   "source": [
    "w = torch.tensor(0.0, requires_grad = True)\n",
    "b = torch.tensor(0.0, requires_grad = True)"
   ]
  },
  {
   "cell_type": "code",
   "execution_count": 21,
   "id": "4cf323a9-2eab-45b7-bde6-2bfa45c4a480",
   "metadata": {},
   "outputs": [],
   "source": [
    "lr = 0.1\n",
    "COST = []\n",
    "for epoch in range(4):\n",
    "    total = 0\n",
    "    for x, y in trainloader:\n",
    "        yhat = forward(x)\n",
    "        loss = criterion(yhat, y)\n",
    "        loss.backward()\n",
    "\n",
    "        w.data = w.data - lr * w.grad.data\n",
    "        w.grad.data.zero_()\n",
    "\n",
    "        b.data = b.data - lr * b.grad.data\n",
    "        b.grad.data.zero_()\n",
    "        total += loss.item()\n",
    "        \n",
    "    COST.append(total)"
   ]
  },
  {
   "cell_type": "code",
   "execution_count": 22,
   "id": "526514f3-bfd0-4fa9-9bae-93189ed559d2",
   "metadata": {},
   "outputs": [
    {
     "data": {
      "image/png": "[encoded data removed]",
      "text/plain": [
       "<Figure size 432x288 with 1 Axes>"
      ]
     },
     "metadata": {
      "needs_background": "light"
     },
     "output_type": "display_data"
    }
   ],
   "source": [
    "plt.plot(range(len(COST)), COST)\n",
    "plt.title('Cost')\n",
    "plt.show()"
   ]
  },
  {
   "cell_type": "code",
   "execution_count": 23,
   "id": "754e3a88-7711-4d94-aa8f-833de7973835",
   "metadata": {},
   "outputs": [
    {
     "data": {
      "text/plain": [
       "tensor(-3.0439, requires_grad=True)"
      ]
     },
     "execution_count": 23,
     "metadata": {},
     "output_type": "execute_result"
    }
   ],
   "source": [
    "w"
   ]
  },
  {
   "cell_type": "code",
   "execution_count": 24,
   "id": "c10d205b-59f8-4d54-bfb1-3dc8b3f7ffed",
   "metadata": {},
   "outputs": [
    {
     "data": {
      "text/plain": [
       "tensor(0.9999, requires_grad=True)"
      ]
     },
     "execution_count": 24,
     "metadata": {},
     "output_type": "execute_result"
    }
   ],
   "source": [
    "b"
   ]
  }
 ],
 "metadata": {
  "kernelspec": {
   "display_name": "AIML",
   "language": "python",
   "name": "aiml"
  },
  "language_info": {
   "codemirror_mode": {
    "name": "ipython",
    "version": 3
   },
   "file_extension": ".py",
   "mimetype": "text/x-python",
   "name": "python",
   "nbconvert_exporter": "python",
   "pygments_lexer": "ipython3",
   "version": "3.8.12"
  }
 },
 "nbformat": 4,
 "nbformat_minor": 5
}
