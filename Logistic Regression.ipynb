{
 "cells": [
  {
   "cell_type": "markdown",
   "id": "dba3dc1a-88e0-4c0a-9208-1a01f3a66bf6",
   "metadata": {
    "tags": []
   },
   "source": [
    "## Feature and Targets\n",
    "\n",
    "- Tensors: matrix and class vector\n",
    "\n",
    "- Input data matrices: $X$\n",
    "\n",
    "$$X = \\begin{bmatrix}\n",
    "x_{11} & x_{12} & \\cdots &x_{1D}\\\\\n",
    "x_{21} & x_{22} & \\cdots &x_{2D}\\\\\n",
    "\\vdots & \\vdots & \\ddots &\\vdots\\\\\n",
    "x_{K1} & x_{K2} & \\cdots &x_{KD}\n",
    "\\end{bmatrix}$$\n",
    "\n",
    "- class vector: $$Y = \\begin{bmatrix}\n",
    "y_1\\\\\n",
    "\\vdots\\\\\n",
    "y_K\n",
    "\\end{bmatrix}$$\n",
    "\n",
    "\n",
    "where $K$ is a number of samples and $D$ is a number of features and $y_i\\in C = \\{c_1, c_2, \\ldots, c_n\\}$ is $n$ class of targets.\n",
    "\n",
    "## Linear Classifier\n",
    "\n",
    "- weight:\n",
    "$$w = \\begin{bmatrix}\n",
    "w_1\\\\\n",
    "\\vdots\\\\\n",
    "w_D\n",
    "\\end{bmatrix}$$\n",
    "\n",
    "- bias:\n",
    "$$b = \\begin{bmatrix}\n",
    "b\\\\\n",
    "\\vdots\\\\\n",
    "b\n",
    "\\end{bmatrix}_{D\\times 1}$$\n",
    "\n",
    "\n",
    "- decission function:\n",
    "$$Z = Xw + b$$\n",
    "- Threshold Function\n",
    "\n",
    "    - logistic function\n",
    "    \n",
    "    $$\\sigma(z) = \\frac{1}{1 + e^{-z}}$$\n",
    "    \n",
    "- Prediction\n",
    "\n",
    "$$\\hat{Y} = \\begin{bmatrix}\n",
    "\\hat{y}_1\\\\\n",
    "\\vdots\\\\\n",
    "\\hat{y}_K\n",
    "\\end{bmatrix} = \\begin{bmatrix}\n",
    "\\sigma(wx_1 + b)\\\\\n",
    "\\vdots\\\\\n",
    "\\sigma(wx_K + b)\n",
    "\\end{bmatrix}$$"
   ]
  },
  {
   "cell_type": "code",
   "execution_count": 1,
   "id": "ce9f1a6d-5a57-4936-87ba-419ffc300df1",
   "metadata": {},
   "outputs": [],
   "source": [
    "import torch\n",
    "import torch.nn as nn\n",
    "import matplotlib.pyplot as plt"
   ]
  },
  {
   "cell_type": "code",
   "execution_count": 2,
   "id": "9f582515-5b2d-477c-a13f-892e81e3b3f5",
   "metadata": {},
   "outputs": [],
   "source": [
    "z = torch.arange(-100, 100, 0.1).view(-1, 1)\n",
    "sig = nn.Sigmoid()"
   ]
  },
  {
   "cell_type": "code",
   "execution_count": 3,
   "id": "5a402beb-e604-466b-af84-4833a19120e9",
   "metadata": {},
   "outputs": [],
   "source": [
    "yhat = sig(z)"
   ]
  },
  {
   "cell_type": "code",
   "execution_count": 4,
   "id": "5db6b34c-a9f3-4b75-b4cc-8f0124c154f1",
   "metadata": {},
   "outputs": [
    {
     "data": {
      "image/png": "[encoded data removed]",
      "text/plain": [
       "<Figure size 432x288 with 1 Axes>"
      ]
     },
     "metadata": {
      "needs_background": "light"
     },
     "output_type": "display_data"
    }
   ],
   "source": [
    "plt.plot(z.numpy(), yhat.numpy())\n",
    "plt.show()"
   ]
  },
  {
   "cell_type": "markdown",
   "id": "943d857c-1672-4459-a7d2-33b38efc9ee7",
   "metadata": {},
   "source": [
    "model: $z = wx_i + b \\rightarrow \\sigma(z) \\rightarrow \\hat{y}$\n",
    "\n",
    "---\n",
    "```python\n",
    "model = nn.Sequential(nn.Linear(1, 1), nn.Sigmoid())\n",
    "yhat = model(x)\n",
    "```\n",
    "---"
   ]
  },
  {
   "cell_type": "code",
   "execution_count": 5,
   "id": "fd97046a-9967-463e-a4d5-2e52957fe7a7",
   "metadata": {},
   "outputs": [],
   "source": [
    "class logistic_regression(nn.Module):\n",
    "    def __init__(self, input_size):\n",
    "        super(logistic_regression, self).__init__()\n",
    "        self.linear = nn.Linear(input_size, 1)\n",
    "        \n",
    "    def forward(self, x):\n",
    "        yhat = torch.sigmoid(self.linear(x))\n",
    "        return yhat"
   ]
  },
  {
   "cell_type": "code",
   "execution_count": 6,
   "id": "3cb0ffc0-6513-4edf-8d2a-31a3f2a21cdf",
   "metadata": {},
   "outputs": [],
   "source": [
    "model = logistic_regression(1)"
   ]
  },
  {
   "cell_type": "code",
   "execution_count": 7,
   "id": "ca9a24ad-c789-4244-bea0-6c23766472cb",
   "metadata": {},
   "outputs": [
    {
     "name": "stdout",
     "output_type": "stream",
     "text": [
      "[Parameter containing:\n",
      "tensor([[0.2814]], requires_grad=True), Parameter containing:\n",
      "tensor([0.5780], requires_grad=True)]\n"
     ]
    }
   ],
   "source": [
    "print(list(model.parameters()))"
   ]
  },
  {
   "cell_type": "code",
   "execution_count": 8,
   "id": "3fbd9211-3002-4957-b18c-5d4062d89b85",
   "metadata": {},
   "outputs": [],
   "source": [
    "model_2D = logistic_regression(2)"
   ]
  },
  {
   "cell_type": "code",
   "execution_count": 9,
   "id": "f5530fb2-819f-4e61-b2b9-a67948e37d46",
   "metadata": {},
   "outputs": [
    {
     "name": "stdout",
     "output_type": "stream",
     "text": [
      "[Parameter containing:\n",
      "tensor([[0.6797, 0.3869]], requires_grad=True), Parameter containing:\n",
      "tensor([0.5953], requires_grad=True)]\n"
     ]
    }
   ],
   "source": [
    "print(list(model_2D.parameters()))"
   ]
  },
  {
   "cell_type": "code",
   "execution_count": 10,
   "id": "cc14c2bf-db3c-4b74-9e9f-d43d59cc8616",
   "metadata": {},
   "outputs": [
    {
     "data": {
      "text/plain": [
       "tensor([[0.9040],\n",
       "        [0.9118]], grad_fn=<SigmoidBackward0>)"
      ]
     },
     "execution_count": 10,
     "metadata": {},
     "output_type": "execute_result"
    }
   ],
   "source": [
    "X = torch.tensor([[1.0, 2.5], [0.0, 4.5]])\n",
    "model_2D(X)"
   ]
  },
  {
   "cell_type": "code",
   "execution_count": null,
   "id": "b74135b7-4d81-4fcd-89d2-be8dd0e78302",
   "metadata": {},
   "outputs": [],
   "source": []
  }
 ],
 "metadata": {
  "kernelspec": {
   "display_name": "AIML",
   "language": "python",
   "name": "aiml"
  },
  "language_info": {
   "codemirror_mode": {
    "name": "ipython",
    "version": 3
   },
   "file_extension": ".py",
   "mimetype": "text/x-python",
   "name": "python",
   "nbconvert_exporter": "python",
   "pygments_lexer": "ipython3",
   "version": "3.8.12"
  }
 },
 "nbformat": 4,
 "nbformat_minor": 5
}
