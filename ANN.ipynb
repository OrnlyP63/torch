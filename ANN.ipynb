{
 "cells": [
  {
   "cell_type": "code",
   "execution_count": 1,
   "id": "b4051526-6b26-4c15-9802-8ce214652d65",
   "metadata": {},
   "outputs": [],
   "source": [
    "import torch\n",
    "from torch import nn, optim\n",
    "\n",
    "import matplotlib.pyplot as plt"
   ]
  },
  {
   "cell_type": "markdown",
   "id": "597eb916-b864-4e9b-8b4c-2b67b2026d78",
   "metadata": {},
   "source": [
    "### Input side\n",
    "\n",
    "- Input feature matrix: \n",
    "\n",
    "$$X_{feature} = \\begin{bmatrix}\n",
    "x_{11} & x_{12} & \\cdots &x_{1D}\\\\\n",
    "x_{21} & x_{22} & \\cdots &x_{2D}\\\\\n",
    "\\vdots & \\vdots & \\ddots &\\vdots\\\\\n",
    "x_{K1} & x_{K2} & \\cdots &x_{KD}\n",
    "\\end{bmatrix}_{K\\times D}$$\n",
    "\n",
    "- Input weight matrix:\n",
    "$$W_{in} = \\begin{bmatrix}\n",
    "w_{11} & w_{12} & \\cdots & w_{1D}\\\\\n",
    "w_{21} & w_{22} & \\cdots & w_{2D}\\\\\n",
    "\\vdots & \\vdots & \\ddots & \\vdots\\\\\n",
    "w_{H1} & w_{H2} & \\cdots & w_{HD}\n",
    "\\end{bmatrix}_{H\\times D}$$\n",
    "\n",
    "- Input bias matrix:\\\n",
    "$$B_{in} = \\begin{bmatrix}\n",
    "b_1 &\\cdots & b_{H}\\\\\n",
    "\\vdots & \\ddots & \\vdots\\\\\n",
    "b_1 &\\cdots & b_{H}\n",
    "\\end{bmatrix}_{K\\times H}$$\n",
    "\n",
    "where $H$ is a number of Hidden units and  $K$ is a number of samples and $D$ is a number of features.\n",
    "\n",
    "### Output side\n",
    "\n",
    "- Hidden feature matrix: \n",
    "\n",
    "$$X_{hidden} = \\begin{bmatrix}\n",
    "x_{11} & x_{12} & \\cdots &x_{1D}\\\\\n",
    "x_{21} & x_{22} & \\cdots &x_{2D}\\\\\n",
    "\\vdots & \\vdots & \\ddots &\\vdots\\\\\n",
    "x_{K1} & x_{K2} & \\cdots &x_{KH}\n",
    "\\end{bmatrix}_{K\\times H}$$\n",
    "\n",
    "- Outout weight matrix:\n",
    "$$W_{in} = \\begin{bmatrix}\n",
    "w_{11} & w_{12} & \\cdots & w_{1H}\\\\\n",
    "w_{21} & w_{22} & \\cdots & w_{2H}\\\\\n",
    "\\vdots & \\vdots & \\ddots & \\vdots\\\\\n",
    "w_{N1} & w_{N2} & \\cdots & w_{NH}\n",
    "\\end{bmatrix}_{N\\times H}$$\n",
    "\n",
    "- Output bias matrix:\\\n",
    "$$B_{in} = \\begin{bmatrix}\n",
    "b_1 &\\cdots & b_{N}\\\\\n",
    "\\vdots & \\ddots & \\vdots\\\\\n",
    "b_1 &\\cdots & b_{N}\n",
    "\\end{bmatrix}_{K\\times N}$$\n",
    "\n",
    "where $N$ is a number of output class.\n"
   ]
  },
  {
   "cell_type": "markdown",
   "id": "7d5b45cd-2d93-49c3-948d-67f4b8f7d08c",
   "metadata": {},
   "source": [
    "![](SingleLayer.png)"
   ]
  },
  {
   "cell_type": "code",
   "execution_count": 2,
   "id": "774ee6af-3f39-42ec-90ad-20571890cf6c",
   "metadata": {},
   "outputs": [],
   "source": [
    "class Net(nn.Module):\n",
    "    def __init__(self, input_size, hidden_size, output_size):\n",
    "        super(Net, self).__init__()\n",
    "        self.linear1 = nn.Linear(input_size, hidden_size)\n",
    "        self.linear2 = nn.Linear(hidden_size, output_size)\n",
    "        \n",
    "    def forward(self, x):\n",
    "        x = torch.sigmoid(self.linear1(x))\n",
    "        x = torch.sigmoid(self.linear2(x))\n",
    "        return x"
   ]
  },
  {
   "cell_type": "code",
   "execution_count": 3,
   "id": "cbc46f92-8716-46af-9c83-d8abd0d6e7eb",
   "metadata": {},
   "outputs": [],
   "source": [
    "model = Net(1, 2, 1)"
   ]
  },
  {
   "cell_type": "code",
   "execution_count": 4,
   "id": "494575e3-350d-4402-b86b-027d60368091",
   "metadata": {},
   "outputs": [],
   "source": [
    "X = torch.tensor([[0.0], [1.0], [2.0]])\n",
    "Yhat = model(X)"
   ]
  },
  {
   "cell_type": "code",
   "execution_count": 5,
   "id": "84d7a021-2818-4b9c-9005-983567c9d643",
   "metadata": {},
   "outputs": [
    {
     "data": {
      "text/plain": [
       "tensor([[0.4555],\n",
       "        [0.4737],\n",
       "        [0.4884]], grad_fn=<SigmoidBackward0>)"
      ]
     },
     "execution_count": 5,
     "metadata": {},
     "output_type": "execute_result"
    }
   ],
   "source": [
    "Yhat"
   ]
  },
  {
   "cell_type": "code",
   "execution_count": 6,
   "id": "2dae1742-1d7c-4ff7-a949-a97745edb72d",
   "metadata": {},
   "outputs": [
    {
     "data": {
      "text/plain": [
       "OrderedDict([('linear1.weight',\n",
       "              tensor([[-0.2542],\n",
       "                      [ 0.6903]])),\n",
       "             ('linear1.bias', tensor([-0.5336,  0.4190])),\n",
       "             ('linear2.weight', tensor([[-0.6019,  0.2610]])),\n",
       "             ('linear2.bias', tensor([-0.1132]))])"
      ]
     },
     "execution_count": 6,
     "metadata": {},
     "output_type": "execute_result"
    }
   ],
   "source": [
    "model.state_dict()"
   ]
  },
  {
   "cell_type": "markdown",
   "id": "3ca74bd9-dccd-4500-8232-1edba4e4c20a",
   "metadata": {},
   "source": [
    "- using Sequential\n",
    "\n",
    "```python\n",
    "model = nn.Sequential(nn.Linear(1, 2), nn.Sigmoid(), nn.Linear(2, 1), nn.Sigmoid())\n",
    "```"
   ]
  },
  {
   "cell_type": "markdown",
   "id": "412afe7d-2cd2-4191-8232-cb23cff2c1d2",
   "metadata": {},
   "source": [
    "### Training"
   ]
  },
  {
   "cell_type": "code",
   "execution_count": 7,
   "id": "9a48b60d-4d73-49d3-8b05-df5a1be3ac98",
   "metadata": {},
   "outputs": [],
   "source": [
    "def train(Y, X, model, optimizer, criterion, epochs=1000):\n",
    "    cost = []\n",
    "    \n",
    "    for epoch in range(epochs):\n",
    "        total = 0\n",
    "        for x, y in zip(X, Y):\n",
    "            yhat = model(x)\n",
    "            loss = criterion(yhat, y)\n",
    "            loss.backward()\n",
    "            optimizer.step()\n",
    "            optimizer.zero_grad()\n",
    "            \n",
    "            total += loss.item()\n",
    "            \n",
    "        cost.append(total)\n",
    "        \n",
    "    return cost"
   ]
  },
  {
   "cell_type": "code",
   "execution_count": 8,
   "id": "45632bae-f46f-4acf-be93-fd3c0c9c930c",
   "metadata": {},
   "outputs": [],
   "source": [
    "criterion = nn.BCELoss()\n",
    "X = torch.arange(-20, 20, 1).view(-1, 1).type(torch.FloatTensor)\n",
    "Y = torch.zeros(X.shape[0], 1)\n",
    "\n",
    "Y[(X[:, 0] > -4) & (X[:, 0] < 4)] = 1.0"
   ]
  },
  {
   "cell_type": "code",
   "execution_count": 9,
   "id": "35064804-fc87-4a2b-ba77-9a9b9f05ad9a",
   "metadata": {},
   "outputs": [],
   "source": [
    "model = Net(1, 2, 1)\n",
    "optimizer = optim.SGD(model.parameters(), lr = 0.01)"
   ]
  },
  {
   "cell_type": "code",
   "execution_count": 10,
   "id": "06b099a2-1b7b-48e4-80aa-bcd0d8091a7c",
   "metadata": {},
   "outputs": [],
   "source": [
    "cost = train(Y, X, model, optimizer, criterion, epochs=1000)"
   ]
  },
  {
   "cell_type": "code",
   "execution_count": 11,
   "id": "1ec79f81-9411-438e-aff3-b8f38821fe5c",
   "metadata": {},
   "outputs": [
    {
     "data": {
      "image/png": "[encoded data removed]",
      "text/plain": [
       "<Figure size 432x288 with 1 Axes>"
      ]
     },
     "metadata": {
      "needs_background": "light"
     },
     "output_type": "display_data"
    }
   ],
   "source": [
    "plt.plot(cost)\n",
    "plt.title('Cost')\n",
    "plt.show()"
   ]
  },
  {
   "cell_type": "code",
   "execution_count": null,
   "id": "3136d0cb-47fd-4132-8bc5-012944ebf56d",
   "metadata": {},
   "outputs": [],
   "source": []
  }
 ],
 "metadata": {
  "kernelspec": {
   "display_name": "AIML",
   "language": "python",
   "name": "aiml"
  },
  "language_info": {
   "codemirror_mode": {
    "name": "ipython",
    "version": 3
   },
   "file_extension": ".py",
   "mimetype": "text/x-python",
   "name": "python",
   "nbconvert_exporter": "python",
   "pygments_lexer": "ipython3",
   "version": "3.8.12"
  }
 },
 "nbformat": 4,
 "nbformat_minor": 5
}
