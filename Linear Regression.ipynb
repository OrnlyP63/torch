{
 "cells": [
  {
   "cell_type": "code",
   "execution_count": 1,
   "id": "6d6142c6-4f2c-4716-88e1-08a409c33d72",
   "metadata": {},
   "outputs": [],
   "source": [
    "import torch\n",
    "import matplotlib.pyplot as plt"
   ]
  },
  {
   "cell_type": "markdown",
   "id": "e77e797d-5a9d-4564-9747-4363cc853025",
   "metadata": {},
   "source": [
    "**Decision function:**\n",
    "$\\hat{y} = wx + b$\n",
    "\n",
    "**Loss function:**\n",
    "$$Loss(y, \\hat{y}) = (y - \\hat{y})^2$$\n",
    "\n",
    "- The Loss function is associated with every training example.\n",
    "\n",
    "**Cost function:**\n",
    "$$l(w, b) = \\frac{1}{N}\\sum_{n=1}^N (y_n - (wx_n + b))^2$$\n",
    "\n",
    "mean square error.\n",
    "- The Cost fucntion is the average value of the loss function over all the training samples.\n",
    "\n",
    "**Gradient Desent:**\n",
    "$$\\begin{align}\n",
    "w_{k + 1} =& w_k - \\eta\\frac{\\partial l(w, b)}{\\partial w}\\\\\\\\\n",
    "b_{k + 1} =& b_k - \\eta\\frac{\\partial l(w, b)}{\\partial b}\n",
    "\\end{align}$$\n",
    "\n",
    "where $\\eta$ is learning rate.\n",
    "\n",
    "from Cost function\n",
    "$$\\frac{\\partial l(w, b)}{\\partial w} = -\\frac{2}{N}\\sum_{n = 1}^N(y_n - (wx_n + b))x_n$$\n",
    "\n",
    "$$\\frac{\\partial l(w, b)}{\\partial b} = -\\frac{2}{N}\\sum_{n = 1}^N(y_n - (wx_n + b))$$\n",
    "- The Gradient Desent is the optimization method that find the minimum of function. Somtimes called **Batch** gradient descent (where $N$ is the batch size).\n",
    "\n"
   ]
  },
  {
   "cell_type": "markdown",
   "id": "13ada430-81ac-4e13-98a9-a2fd8cda989a",
   "metadata": {},
   "source": [
    "## Example 1"
   ]
  },
  {
   "cell_type": "code",
   "execution_count": 2,
   "id": "39301381-8fd0-4fb3-9e4e-f0a9544e5f62",
   "metadata": {},
   "outputs": [],
   "source": [
    "X = torch.arange(-3.0, 3.0, 0.1).view(-1, 1)\n",
    "f = -3 * X"
   ]
  },
  {
   "cell_type": "code",
   "execution_count": 3,
   "id": "ed6657f2-297e-40b1-b64c-c6bccbd4539b",
   "metadata": {},
   "outputs": [
    {
     "data": {
      "image/png": "[encoded data removed]",
      "text/plain": [
       "<Figure size 432x288 with 1 Axes>"
      ]
     },
     "metadata": {
      "needs_background": "light"
     },
     "output_type": "display_data"
    }
   ],
   "source": [
    "plt.plot(X.numpy(), f.numpy())\n",
    "plt.show()"
   ]
  },
  {
   "cell_type": "code",
   "execution_count": 4,
   "id": "7bafb0b8-a555-402e-9e6d-5bd607d34ebf",
   "metadata": {},
   "outputs": [],
   "source": [
    "Y = f + 0.1 * torch.randn(X.size())"
   ]
  },
  {
   "cell_type": "code",
   "execution_count": 5,
   "id": "d12b49e8-b80f-4ed7-b53c-bd909c74e63b",
   "metadata": {},
   "outputs": [
    {
     "data": {
      "image/png": "[encoded data removed]",
      "text/plain": [
       "<Figure size 432x288 with 1 Axes>"
      ]
     },
     "metadata": {
      "needs_background": "light"
     },
     "output_type": "display_data"
    }
   ],
   "source": [
    "plt.plot(X.numpy(), Y.numpy(), 'ro')\n",
    "plt.show()"
   ]
  },
  {
   "cell_type": "markdown",
   "id": "e4d47cc9-55a1-43f6-89d4-5cd9373d2623",
   "metadata": {},
   "source": [
    "Decission function: $\\hat{y} = wx$\n",
    "\n",
    "Cost function: $\\frac{1}{N}\\sum_{n=1}^N (y_n - wx_n)^2$\n",
    "\n",
    "learning rate: $\\eta = 0.1$\n",
    "\n",
    "initial weight: $w_0 = 0$"
   ]
  },
  {
   "cell_type": "code",
   "execution_count": 6,
   "id": "c7894a89-f8ca-4f99-a3c3-8c51da66bc44",
   "metadata": {},
   "outputs": [],
   "source": [
    "w = torch.tensor(0.0, requires_grad = True)"
   ]
  },
  {
   "cell_type": "code",
   "execution_count": 7,
   "id": "3bd3be43-9dc8-4527-b9ed-c847669b0ada",
   "metadata": {},
   "outputs": [],
   "source": [
    "def forward(X):\n",
    "    return w * X\n",
    "\n",
    "def criterion(yhat, y):\n",
    "    return torch.mean((yhat - y) ** 2)"
   ]
  },
  {
   "cell_type": "markdown",
   "id": "91bc89ff-770f-4467-be28-3e7dc1d83038",
   "metadata": {},
   "source": [
    "```python\n",
    "loss.backward() \n",
    "```\n",
    "is the method will calculate or accumulate gradients of your loss.\n",
    "\n",
    "$$w_{k+1} = w_{k} - \\eta\\frac{dl(w_k)}{dw}$$"
   ]
  },
  {
   "cell_type": "code",
   "execution_count": 8,
   "id": "47774876-73b2-47b7-885a-ebcd3a4cdfe6",
   "metadata": {},
   "outputs": [],
   "source": [
    "lr = 0.1\n",
    "COST = []\n",
    "for epoch in range(4):\n",
    "    Yhat = forward(X)\n",
    "    loss = criterion(Yhat, Y)\n",
    "    loss.backward()\n",
    "    \n",
    "    w.data = w.data - lr * w.grad.data\n",
    "    w.grad.data.zero_()\n",
    "    \n",
    "    COST.append(loss.item())"
   ]
  },
  {
   "cell_type": "code",
   "execution_count": 9,
   "id": "a051a1bf-59d7-47d8-a87e-ca273c1dcb2c",
   "metadata": {},
   "outputs": [
    {
     "data": {
      "image/png": "[encoded data removed]",
      "text/plain": [
       "<Figure size 432x288 with 1 Axes>"
      ]
     },
     "metadata": {
      "needs_background": "light"
     },
     "output_type": "display_data"
    }
   ],
   "source": [
    "plt.plot(range(len(COST)), COST)\n",
    "plt.title('Cost')\n",
    "plt.show()"
   ]
  },
  {
   "cell_type": "code",
   "execution_count": 10,
   "id": "07db339c-710d-45d0-848a-9db61250349f",
   "metadata": {},
   "outputs": [
    {
     "data": {
      "text/plain": [
       "tensor(-2.9231, requires_grad=True)"
      ]
     },
     "execution_count": 10,
     "metadata": {},
     "output_type": "execute_result"
    }
   ],
   "source": [
    "w"
   ]
  },
  {
   "cell_type": "markdown",
   "id": "4955471f-d6b0-4f00-890b-8031aa6f9f38",
   "metadata": {
    "tags": []
   },
   "source": [
    "## Example 2"
   ]
  },
  {
   "cell_type": "code",
   "execution_count": 11,
   "id": "da95f3ff-905e-48bd-9e53-3532f4b143df",
   "metadata": {},
   "outputs": [],
   "source": [
    "X = torch.arange(-3.0, 3.0, 0.1).view(-1, 1)\n",
    "f = -3 * X + 1"
   ]
  },
  {
   "cell_type": "code",
   "execution_count": 12,
   "id": "3ad0857d-4eaf-4120-ba86-67f3d0f7b4c0",
   "metadata": {},
   "outputs": [
    {
     "data": {
      "image/png": "[encoded data removed]",
      "text/plain": [
       "<Figure size 432x288 with 1 Axes>"
      ]
     },
     "metadata": {
      "needs_background": "light"
     },
     "output_type": "display_data"
    }
   ],
   "source": [
    "plt.plot(X.numpy(), f.numpy())\n",
    "plt.show()"
   ]
  },
  {
   "cell_type": "code",
   "execution_count": 13,
   "id": "75daed3f-69bd-4f40-b462-bbb7d0942854",
   "metadata": {},
   "outputs": [],
   "source": [
    "Y = f + 0.1 * torch.randn(X.size())"
   ]
  },
  {
   "cell_type": "code",
   "execution_count": 14,
   "id": "7977bb07-ea81-47ce-bd80-8c9496921797",
   "metadata": {},
   "outputs": [
    {
     "data": {
      "image/png": "[encoded data removed]",
      "text/plain": [
       "<Figure size 432x288 with 1 Axes>"
      ]
     },
     "metadata": {
      "needs_background": "light"
     },
     "output_type": "display_data"
    }
   ],
   "source": [
    "plt.plot(X.numpy(), Y.numpy(), 'ro')\n",
    "plt.show()"
   ]
  },
  {
   "cell_type": "markdown",
   "id": "5e10f20f-a178-4b05-920c-b0ddd6a80be4",
   "metadata": {},
   "source": [
    "Decission function: $\\hat{y} = wx + b$\n",
    "\n",
    "Cost function: $\\frac{1}{N}\\sum_{n=1}^N (y_n - (wx_n + b))^2$\n",
    "\n",
    "learning rate: $\\eta = 0.1$\n",
    "\n",
    "initial weight: $w_0 = 0$\n",
    "\n",
    "initial bias: $b_0 = 0$"
   ]
  },
  {
   "cell_type": "code",
   "execution_count": 15,
   "id": "453ff7bf-3156-4d9d-8fe0-4d7a497fa77c",
   "metadata": {},
   "outputs": [],
   "source": [
    "w = torch.tensor(0.0, requires_grad = True)\n",
    "b = torch.tensor(0.0, requires_grad = True)"
   ]
  },
  {
   "cell_type": "code",
   "execution_count": 16,
   "id": "0ea5c75d-cda8-4902-b7e3-bad2e6f5bf0d",
   "metadata": {},
   "outputs": [],
   "source": [
    "def forward(X):\n",
    "    return w * X + b\n",
    "\n",
    "def criterion(yhat, y):\n",
    "    return torch.mean((yhat - y) ** 2)"
   ]
  },
  {
   "cell_type": "markdown",
   "id": "55c0f552-c74a-4349-b96f-a52c4c0143d7",
   "metadata": {},
   "source": [
    "```python\n",
    "loss.backward() \n",
    "```\n",
    "is the method will calculate or accumulate gradients of your loss."
   ]
  },
  {
   "cell_type": "markdown",
   "id": "f4f88ea1-20e4-40fb-8548-226d7c56ef4c",
   "metadata": {},
   "source": [
    "Gradient:\n",
    "$\\begin{equation*}\n",
    "\\nabla l(w, b) = \n",
    "\\begin{bmatrix}\n",
    "\\frac{\\partial l(w, b)}{\\partial w}\\\\\\\\\n",
    "\\frac{\\partial l(w, b)}{\\partial b}\n",
    "\\end{bmatrix}\n",
    "\\end{equation*}$\n",
    "\n",
    "$$\\begin{align}\n",
    "w_{k + 1} =& w_k - \\eta\\frac{\\partial l(w, b)}{\\partial w}\\\\\\\\\n",
    "b_{k + 1} =& b_k - \\eta\\frac{\\partial l(w, b)}{\\partial b}\n",
    "\\end{align}$$"
   ]
  },
  {
   "cell_type": "code",
   "execution_count": 17,
   "id": "5469cab5-0ada-4f05-93f1-704179682a76",
   "metadata": {},
   "outputs": [],
   "source": [
    "lr = 0.1\n",
    "COST = []\n",
    "for epoch in range(4):\n",
    "    Yhat = forward(X)\n",
    "    loss = criterion(Yhat, Y)\n",
    "    loss.backward()\n",
    "    \n",
    "    w.data = w.data - lr * w.grad.data\n",
    "    w.grad.data.zero_()\n",
    "    \n",
    "    b.data = b.data - lr * b.grad.data\n",
    "    b.grad.data.zero_()\n",
    "    \n",
    "    COST.append(loss.item())"
   ]
  },
  {
   "cell_type": "code",
   "execution_count": 18,
   "id": "fb3c9ea2-9e9b-4793-be99-2a53cd4947ab",
   "metadata": {},
   "outputs": [
    {
     "data": {
      "image/png": "[encoded data removed]",
      "text/plain": [
       "<Figure size 432x288 with 1 Axes>"
      ]
     },
     "metadata": {
      "needs_background": "light"
     },
     "output_type": "display_data"
    }
   ],
   "source": [
    "plt.plot(range(len(COST)), COST)\n",
    "plt.title('Cost')\n",
    "plt.show()"
   ]
  },
  {
   "cell_type": "code",
   "execution_count": 19,
   "id": "3c1a2056-92c8-4d62-b547-dd7f6663fcba",
   "metadata": {},
   "outputs": [
    {
     "data": {
      "text/plain": [
       "tensor(-2.9404, requires_grad=True)"
      ]
     },
     "execution_count": 19,
     "metadata": {},
     "output_type": "execute_result"
    }
   ],
   "source": [
    "w"
   ]
  },
  {
   "cell_type": "code",
   "execution_count": 20,
   "id": "a8190876-1535-4d28-8082-af95756d707e",
   "metadata": {},
   "outputs": [
    {
     "data": {
      "text/plain": [
       "tensor(0.6225, requires_grad=True)"
      ]
     },
     "execution_count": 20,
     "metadata": {},
     "output_type": "execute_result"
    }
   ],
   "source": [
    "b"
   ]
  }
 ],
 "metadata": {
  "kernelspec": {
   "display_name": "AIML",
   "language": "python",
   "name": "aiml"
  },
  "language_info": {
   "codemirror_mode": {
    "name": "ipython",
    "version": 3
   },
   "file_extension": ".py",
   "mimetype": "text/x-python",
   "name": "python",
   "nbconvert_exporter": "python",
   "pygments_lexer": "ipython3",
   "version": "3.8.12"
  }
 },
 "nbformat": 4,
 "nbformat_minor": 5
}
